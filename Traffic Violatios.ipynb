{
 "cells": [
  {
   "cell_type": "code",
   "execution_count": 1,
   "id": "7497cf0e",
   "metadata": {},
   "outputs": [
    {
     "name": "stderr",
     "output_type": "stream",
     "text": [
      "UsageError: Line magic function `%` not found.\n"
     ]
    }
   ],
   "source": [
    "import pandas as pd\n",
    "import numpy as np \n",
    "import matplotlib.pyplot as plt\n",
    "% matplotlib inline\n"
   ]
  },
  {
   "cell_type": "markdown",
   "id": "2e8ba526",
   "metadata": {},
   "source": [
    "# Data Wrangling\n",
    "- In this section of the report, I will load in the data, check for cleanliness, and then trim and clean my dataset for analysis"
   ]
  },
  {
   "cell_type": "code",
   "execution_count": null,
   "id": "c9d32915",
   "metadata": {},
   "outputs": [],
   "source": [
    "# Importing data and some of raw data :"
   ]
  },
  {
   "cell_type": "code",
   "execution_count": 2,
   "id": "15a0545f",
   "metadata": {},
   "outputs": [
    {
     "data": {
      "text/html": [
       "<div>\n",
       "<style scoped>\n",
       "    .dataframe tbody tr th:only-of-type {\n",
       "        vertical-align: middle;\n",
       "    }\n",
       "\n",
       "    .dataframe tbody tr th {\n",
       "        vertical-align: top;\n",
       "    }\n",
       "\n",
       "    .dataframe thead th {\n",
       "        text-align: right;\n",
       "    }\n",
       "</style>\n",
       "<table border=\"1\" class=\"dataframe\">\n",
       "  <thead>\n",
       "    <tr style=\"text-align: right;\">\n",
       "      <th></th>\n",
       "      <th>stop_date</th>\n",
       "      <th>stop_time</th>\n",
       "      <th>country_name</th>\n",
       "      <th>driver_gender</th>\n",
       "      <th>driver_age_raw</th>\n",
       "      <th>driver_age</th>\n",
       "      <th>driver_race</th>\n",
       "      <th>violation_raw</th>\n",
       "      <th>violation</th>\n",
       "      <th>search_conducted</th>\n",
       "      <th>search_type</th>\n",
       "      <th>stop_outcome</th>\n",
       "      <th>is_arrested</th>\n",
       "      <th>stop_duration</th>\n",
       "      <th>drugs_related_stop</th>\n",
       "    </tr>\n",
       "  </thead>\n",
       "  <tbody>\n",
       "    <tr>\n",
       "      <th>0</th>\n",
       "      <td>1/2/2005</td>\n",
       "      <td>1:55</td>\n",
       "      <td>NaN</td>\n",
       "      <td>M</td>\n",
       "      <td>1985.0</td>\n",
       "      <td>20.0</td>\n",
       "      <td>White</td>\n",
       "      <td>Speeding</td>\n",
       "      <td>Speeding</td>\n",
       "      <td>False</td>\n",
       "      <td>NaN</td>\n",
       "      <td>Citation</td>\n",
       "      <td>False</td>\n",
       "      <td>0-15 Min</td>\n",
       "      <td>False</td>\n",
       "    </tr>\n",
       "    <tr>\n",
       "      <th>1</th>\n",
       "      <td>1/18/2005</td>\n",
       "      <td>8:15</td>\n",
       "      <td>NaN</td>\n",
       "      <td>M</td>\n",
       "      <td>1965.0</td>\n",
       "      <td>40.0</td>\n",
       "      <td>White</td>\n",
       "      <td>Speeding</td>\n",
       "      <td>Speeding</td>\n",
       "      <td>False</td>\n",
       "      <td>NaN</td>\n",
       "      <td>Citation</td>\n",
       "      <td>False</td>\n",
       "      <td>0-15 Min</td>\n",
       "      <td>False</td>\n",
       "    </tr>\n",
       "    <tr>\n",
       "      <th>2</th>\n",
       "      <td>1/23/2005</td>\n",
       "      <td>23:15</td>\n",
       "      <td>NaN</td>\n",
       "      <td>M</td>\n",
       "      <td>1972.0</td>\n",
       "      <td>33.0</td>\n",
       "      <td>White</td>\n",
       "      <td>Speeding</td>\n",
       "      <td>Speeding</td>\n",
       "      <td>False</td>\n",
       "      <td>NaN</td>\n",
       "      <td>Citation</td>\n",
       "      <td>False</td>\n",
       "      <td>0-15 Min</td>\n",
       "      <td>False</td>\n",
       "    </tr>\n",
       "    <tr>\n",
       "      <th>3</th>\n",
       "      <td>2/20/2005</td>\n",
       "      <td>17:15</td>\n",
       "      <td>NaN</td>\n",
       "      <td>M</td>\n",
       "      <td>1986.0</td>\n",
       "      <td>19.0</td>\n",
       "      <td>White</td>\n",
       "      <td>Call for Service</td>\n",
       "      <td>Other</td>\n",
       "      <td>False</td>\n",
       "      <td>NaN</td>\n",
       "      <td>Arrest Driver</td>\n",
       "      <td>True</td>\n",
       "      <td>16-30 Min</td>\n",
       "      <td>False</td>\n",
       "    </tr>\n",
       "    <tr>\n",
       "      <th>4</th>\n",
       "      <td>3/14/2005</td>\n",
       "      <td>10:00</td>\n",
       "      <td>NaN</td>\n",
       "      <td>F</td>\n",
       "      <td>1984.0</td>\n",
       "      <td>21.0</td>\n",
       "      <td>White</td>\n",
       "      <td>Speeding</td>\n",
       "      <td>Speeding</td>\n",
       "      <td>False</td>\n",
       "      <td>NaN</td>\n",
       "      <td>Citation</td>\n",
       "      <td>False</td>\n",
       "      <td>0-15 Min</td>\n",
       "      <td>False</td>\n",
       "    </tr>\n",
       "  </tbody>\n",
       "</table>\n",
       "</div>"
      ],
      "text/plain": [
       "   stop_date stop_time  country_name driver_gender  driver_age_raw  \\\n",
       "0   1/2/2005      1:55           NaN             M          1985.0   \n",
       "1  1/18/2005      8:15           NaN             M          1965.0   \n",
       "2  1/23/2005     23:15           NaN             M          1972.0   \n",
       "3  2/20/2005     17:15           NaN             M          1986.0   \n",
       "4  3/14/2005     10:00           NaN             F          1984.0   \n",
       "\n",
       "   driver_age driver_race     violation_raw violation search_conducted  \\\n",
       "0        20.0       White          Speeding  Speeding            False   \n",
       "1        40.0       White          Speeding  Speeding            False   \n",
       "2        33.0       White          Speeding  Speeding            False   \n",
       "3        19.0       White  Call for Service     Other            False   \n",
       "4        21.0       White          Speeding  Speeding            False   \n",
       "\n",
       "  search_type   stop_outcome is_arrested stop_duration drugs_related_stop  \n",
       "0         NaN       Citation       False      0-15 Min              False  \n",
       "1         NaN       Citation       False      0-15 Min              False  \n",
       "2         NaN       Citation       False      0-15 Min              False  \n",
       "3         NaN  Arrest Driver        True     16-30 Min              False  \n",
       "4         NaN       Citation       False      0-15 Min              False  "
      ]
     },
     "execution_count": 2,
     "metadata": {},
     "output_type": "execute_result"
    }
   ],
   "source": [
    "df =pd.read_csv('traffic_violaions.CSV',header=0)\n",
    "df.head()"
   ]
  },
  {
   "cell_type": "code",
   "execution_count": 3,
   "id": "60d649a8",
   "metadata": {},
   "outputs": [
    {
     "data": {
      "text/html": [
       "<div>\n",
       "<style scoped>\n",
       "    .dataframe tbody tr th:only-of-type {\n",
       "        vertical-align: middle;\n",
       "    }\n",
       "\n",
       "    .dataframe tbody tr th {\n",
       "        vertical-align: top;\n",
       "    }\n",
       "\n",
       "    .dataframe thead th {\n",
       "        text-align: right;\n",
       "    }\n",
       "</style>\n",
       "<table border=\"1\" class=\"dataframe\">\n",
       "  <thead>\n",
       "    <tr style=\"text-align: right;\">\n",
       "      <th></th>\n",
       "      <th>stop_date</th>\n",
       "      <th>stop_time</th>\n",
       "      <th>country_name</th>\n",
       "      <th>driver_gender</th>\n",
       "      <th>driver_age_raw</th>\n",
       "      <th>driver_age</th>\n",
       "      <th>driver_race</th>\n",
       "      <th>violation_raw</th>\n",
       "      <th>violation</th>\n",
       "      <th>search_conducted</th>\n",
       "      <th>search_type</th>\n",
       "      <th>stop_outcome</th>\n",
       "      <th>is_arrested</th>\n",
       "      <th>stop_duration</th>\n",
       "      <th>drugs_related_stop</th>\n",
       "    </tr>\n",
       "  </thead>\n",
       "  <tbody>\n",
       "    <tr>\n",
       "      <th>52961</th>\n",
       "      <td>10/5/2011</td>\n",
       "      <td>1:55</td>\n",
       "      <td>NaN</td>\n",
       "      <td>NaN</td>\n",
       "      <td>NaN</td>\n",
       "      <td>NaN</td>\n",
       "      <td>NaN</td>\n",
       "      <td>NaN</td>\n",
       "      <td>NaN</td>\n",
       "      <td>False</td>\n",
       "      <td>NaN</td>\n",
       "      <td>NaN</td>\n",
       "      <td>NaN</td>\n",
       "      <td>NaN</td>\n",
       "      <td>False</td>\n",
       "    </tr>\n",
       "    <tr>\n",
       "      <th>52962</th>\n",
       "      <td>10/5/2011</td>\n",
       "      <td>6:43</td>\n",
       "      <td>NaN</td>\n",
       "      <td>M</td>\n",
       "      <td>1986.0</td>\n",
       "      <td>25.0</td>\n",
       "      <td>White</td>\n",
       "      <td>Speeding</td>\n",
       "      <td>Speeding</td>\n",
       "      <td>False</td>\n",
       "      <td>NaN</td>\n",
       "      <td>Citation</td>\n",
       "      <td>False</td>\n",
       "      <td>0-15 Min</td>\n",
       "      <td>False</td>\n",
       "    </tr>\n",
       "    <tr>\n",
       "      <th>52963</th>\n",
       "      <td>10/5/2011</td>\n",
       "      <td>6:49</td>\n",
       "      <td>NaN</td>\n",
       "      <td>NaN</td>\n",
       "      <td>NaN</td>\n",
       "      <td>NaN</td>\n",
       "      <td>NaN</td>\n",
       "      <td>NaN</td>\n",
       "      <td>NaN</td>\n",
       "      <td>False</td>\n",
       "      <td>NaN</td>\n",
       "      <td>NaN</td>\n",
       "      <td>NaN</td>\n",
       "      <td>NaN</td>\n",
       "      <td>False</td>\n",
       "    </tr>\n",
       "    <tr>\n",
       "      <th>52964</th>\n",
       "      <td>10/5/2011</td>\n",
       "      <td>7:19</td>\n",
       "      <td>NaN</td>\n",
       "      <td>F</td>\n",
       "      <td>1986.0</td>\n",
       "      <td>25.0</td>\n",
       "      <td>White</td>\n",
       "      <td>Speeding</td>\n",
       "      <td>Speeding</td>\n",
       "      <td>False</td>\n",
       "      <td>NaN</td>\n",
       "      <td>Citation</td>\n",
       "      <td>False</td>\n",
       "      <td>0-15 Min</td>\n",
       "      <td>False</td>\n",
       "    </tr>\n",
       "    <tr>\n",
       "      <th>52965</th>\n",
       "      <td>10/5</td>\n",
       "      <td>NaN</td>\n",
       "      <td>NaN</td>\n",
       "      <td>NaN</td>\n",
       "      <td>NaN</td>\n",
       "      <td>NaN</td>\n",
       "      <td>NaN</td>\n",
       "      <td>NaN</td>\n",
       "      <td>NaN</td>\n",
       "      <td>NaN</td>\n",
       "      <td>NaN</td>\n",
       "      <td>NaN</td>\n",
       "      <td>NaN</td>\n",
       "      <td>NaN</td>\n",
       "      <td>NaN</td>\n",
       "    </tr>\n",
       "  </tbody>\n",
       "</table>\n",
       "</div>"
      ],
      "text/plain": [
       "       stop_date stop_time  country_name driver_gender  driver_age_raw  \\\n",
       "52961  10/5/2011      1:55           NaN           NaN             NaN   \n",
       "52962  10/5/2011      6:43           NaN             M          1986.0   \n",
       "52963  10/5/2011      6:49           NaN           NaN             NaN   \n",
       "52964  10/5/2011      7:19           NaN             F          1986.0   \n",
       "52965       10/5       NaN           NaN           NaN             NaN   \n",
       "\n",
       "       driver_age driver_race violation_raw violation search_conducted  \\\n",
       "52961         NaN         NaN           NaN       NaN            False   \n",
       "52962        25.0       White      Speeding  Speeding            False   \n",
       "52963         NaN         NaN           NaN       NaN            False   \n",
       "52964        25.0       White      Speeding  Speeding            False   \n",
       "52965         NaN         NaN           NaN       NaN              NaN   \n",
       "\n",
       "      search_type stop_outcome is_arrested stop_duration drugs_related_stop  \n",
       "52961         NaN          NaN         NaN           NaN              False  \n",
       "52962         NaN     Citation       False      0-15 Min              False  \n",
       "52963         NaN          NaN         NaN           NaN              False  \n",
       "52964         NaN     Citation       False      0-15 Min              False  \n",
       "52965         NaN          NaN         NaN           NaN                NaN  "
      ]
     },
     "execution_count": 3,
     "metadata": {},
     "output_type": "execute_result"
    }
   ],
   "source": [
    "df.tail()"
   ]
  },
  {
   "cell_type": "code",
   "execution_count": 4,
   "id": "2d0f8150",
   "metadata": {},
   "outputs": [
    {
     "data": {
      "text/plain": [
       "(52966, 15)"
      ]
     },
     "execution_count": 4,
     "metadata": {},
     "output_type": "execute_result"
    }
   ],
   "source": [
    "## Size of raw data:\n",
    "df.shape"
   ]
  },
  {
   "cell_type": "code",
   "execution_count": 5,
   "id": "af6ce21d",
   "metadata": {},
   "outputs": [
    {
     "name": "stdout",
     "output_type": "stream",
     "text": [
      "<class 'pandas.core.frame.DataFrame'>\n",
      "RangeIndex: 52966 entries, 0 to 52965\n",
      "Data columns (total 15 columns):\n",
      " #   Column              Non-Null Count  Dtype  \n",
      "---  ------              --------------  -----  \n",
      " 0   stop_date           52966 non-null  object \n",
      " 1   stop_time           52965 non-null  object \n",
      " 2   country_name        0 non-null      float64\n",
      " 3   driver_gender       49580 non-null  object \n",
      " 4   driver_age_raw      49588 non-null  float64\n",
      " 5   driver_age          49346 non-null  float64\n",
      " 6   driver_race         49581 non-null  object \n",
      " 7   violation_raw       49581 non-null  object \n",
      " 8   violation           49581 non-null  object \n",
      " 9   search_conducted    52965 non-null  object \n",
      " 10  search_type         2085 non-null   object \n",
      " 11  stop_outcome        49581 non-null  object \n",
      " 12  is_arrested         49581 non-null  object \n",
      " 13  stop_duration       49581 non-null  object \n",
      " 14  drugs_related_stop  52965 non-null  object \n",
      "dtypes: float64(3), object(12)\n",
      "memory usage: 6.1+ MB\n"
     ]
    }
   ],
   "source": [
    "## Infromation about data:\n",
    "## Explore if we have missing value?\n",
    "df.info()"
   ]
  },
  {
   "cell_type": "code",
   "execution_count": 6,
   "id": "6b1421ae",
   "metadata": {
    "scrolled": true
   },
   "outputs": [
    {
     "data": {
      "text/plain": [
       "stop_date                 0\n",
       "stop_time                 1\n",
       "country_name          52966\n",
       "driver_gender          3386\n",
       "driver_age_raw         3378\n",
       "driver_age             3620\n",
       "driver_race            3385\n",
       "violation_raw          3385\n",
       "violation              3385\n",
       "search_conducted          1\n",
       "search_type           50881\n",
       "stop_outcome           3385\n",
       "is_arrested            3385\n",
       "stop_duration          3385\n",
       "drugs_related_stop        1\n",
       "dtype: int64"
      ]
     },
     "execution_count": 6,
     "metadata": {},
     "output_type": "execute_result"
    }
   ],
   "source": [
    "## Count the missing values at each column:\n",
    "df.isnull().sum()"
   ]
  },
  {
   "cell_type": "code",
   "execution_count": 7,
   "id": "157cfe9a",
   "metadata": {},
   "outputs": [],
   "source": [
    "## Function to visualize data:\n",
    "def vis(col):\n",
    "    df[col].value_counts().plot(kind='pie')"
   ]
  },
  {
   "cell_type": "markdown",
   "id": "83831edd",
   "metadata": {},
   "source": [
    "## Try to know the difference between violation and violation_raw?"
   ]
  },
  {
   "cell_type": "code",
   "execution_count": 8,
   "id": "87c42976",
   "metadata": {},
   "outputs": [
    {
     "data": {
      "text/plain": [
       "Speeding                            32139\n",
       "Other Traffic Violation              8385\n",
       "Equipment/Inspection Violation       4276\n",
       "Special Detail/Directed Patrol       1954\n",
       "Registration Violation               1820\n",
       "Call for Service                      673\n",
       "Violation of City/Town Ordinance      131\n",
       "Motorist Assist/Courtesy              119\n",
       "APB                                    43\n",
       "Suspicious Person                      31\n",
       "Warrant                                10\n",
       "Name: violation_raw, dtype: int64"
      ]
     },
     "execution_count": 8,
     "metadata": {},
     "output_type": "execute_result"
    }
   ],
   "source": [
    "df['violation_raw'].value_counts()"
   ]
  },
  {
   "cell_type": "code",
   "execution_count": 9,
   "id": "48b13030",
   "metadata": {},
   "outputs": [
    {
     "data": {
      "image/png": "[encoded data removed]",
      "text/plain": [
       "<Figure size 432x288 with 1 Axes>"
      ]
     },
     "metadata": {},
     "output_type": "display_data"
    }
   ],
   "source": [
    "vis('violation_raw')"
   ]
  },
  {
   "cell_type": "code",
   "execution_count": 10,
   "id": "fca78ab8",
   "metadata": {},
   "outputs": [
    {
     "data": {
      "text/plain": [
       "Speeding               32139\n",
       "Moving violation        8385\n",
       "Equipment               4276\n",
       "Other                   2961\n",
       "Registration/plates     1820\n",
       "Name: violation, dtype: int64"
      ]
     },
     "execution_count": 10,
     "metadata": {},
     "output_type": "execute_result"
    }
   ],
   "source": [
    "df['violation'].value_counts()"
   ]
  },
  {
   "cell_type": "code",
   "execution_count": 11,
   "id": "a7ef4ffa",
   "metadata": {},
   "outputs": [
    {
     "data": {
      "image/png": "[encoded data removed]",
      "text/plain": [
       "<Figure size 432x288 with 1 Axes>"
      ]
     },
     "metadata": {},
     "output_type": "display_data"
    }
   ],
   "source": [
    "vis('violation')"
   ]
  },
  {
   "cell_type": "markdown",
   "id": "c32a660b",
   "metadata": {},
   "source": [
    "## Details of search_type:"
   ]
  },
  {
   "cell_type": "code",
   "execution_count": 12,
   "id": "face90b7",
   "metadata": {},
   "outputs": [
    {
     "data": {
      "text/plain": [
       "Incident to Arrest                                          941\n",
       "Probable Cause                                              447\n",
       "Inventory                                                   129\n",
       "Protective Frisk                                            120\n",
       "Reasonable Suspicion                                        116\n",
       "Incident to Arrest,Inventory                                 90\n",
       "Incident to Arrest,Probable Cause                            68\n",
       "Incident to Arrest,Protective Frisk                          31\n",
       "Probable Cause,Reasonable Suspicion                          29\n",
       "Probable Cause,Protective Frisk                              22\n",
       "Incident to Arrest,Inventory,Probable Cause                  21\n",
       "Inventory,Probable Cause                                     13\n",
       "Incident to Arrest,Inventory,Protective Frisk                11\n",
       "Inventory,Protective Frisk                                   10\n",
       "Incident to Arrest,Probable Cause,Protective Frisk           10\n",
       "Protective Frisk,Reasonable Suspicion                        10\n",
       "Incident to Arrest,Reasonable Suspicion                       6\n",
       "Incident to Arrest,Probable Cause,Reasonable Suspicion        3\n",
       "Incident to Arrest,Inventory,Reasonable Suspicion             2\n",
       "Inventory,Probable Cause,Protective Frisk                     2\n",
       "Inventory,Reasonable Suspicion                                2\n",
       "Incident to Arrest,Protective Frisk,Reasonable Suspicion      1\n",
       "Inventory,Probable Cause,Reasonable Suspicion                 1\n",
       "Name: search_type, dtype: int64"
      ]
     },
     "execution_count": 12,
     "metadata": {},
     "output_type": "execute_result"
    }
   ],
   "source": [
    "df['search_type'].value_counts()"
   ]
  },
  {
   "cell_type": "code",
   "execution_count": 13,
   "id": "c7aa3ea5",
   "metadata": {},
   "outputs": [
    {
     "data": {
      "text/plain": [
       "2085"
      ]
     },
     "execution_count": 13,
     "metadata": {},
     "output_type": "execute_result"
    }
   ],
   "source": [
    "df['search_type'].value_counts().sum()"
   ]
  },
  {
   "cell_type": "markdown",
   "id": "e1ce54e7",
   "metadata": {},
   "source": [
    "## Details of stop_duration: "
   ]
  },
  {
   "cell_type": "code",
   "execution_count": 14,
   "id": "e48ad781",
   "metadata": {},
   "outputs": [
    {
     "data": {
      "text/plain": [
       "0-15 Min     37433\n",
       "16-30 Min     9845\n",
       "30+ Min       2303\n",
       "Name: stop_duration, dtype: int64"
      ]
     },
     "execution_count": 14,
     "metadata": {},
     "output_type": "execute_result"
    }
   ],
   "source": [
    "df['stop_duration'].value_counts()"
   ]
  },
  {
   "cell_type": "code",
   "execution_count": 15,
   "id": "dade309f",
   "metadata": {},
   "outputs": [
    {
     "data": {
      "image/png": "[encoded data removed]",
      "text/plain": [
       "<Figure size 432x288 with 1 Axes>"
      ]
     },
     "metadata": {},
     "output_type": "display_data"
    }
   ],
   "source": [
    "vis('stop_duration')"
   ]
  },
  {
   "cell_type": "markdown",
   "id": "2ef7a2c1",
   "metadata": {},
   "source": [
    "## Details of race:"
   ]
  },
  {
   "cell_type": "code",
   "execution_count": 16,
   "id": "cce454be",
   "metadata": {},
   "outputs": [
    {
     "data": {
      "text/plain": [
       "White       37364\n",
       "Black        6594\n",
       "Hispanic     4099\n",
       "Asian        1375\n",
       "Other         149\n",
       "Name: driver_race, dtype: int64"
      ]
     },
     "execution_count": 16,
     "metadata": {},
     "output_type": "execute_result"
    }
   ],
   "source": [
    "df['driver_race'].value_counts()"
   ]
  },
  {
   "cell_type": "code",
   "execution_count": 17,
   "id": "2451bf58",
   "metadata": {},
   "outputs": [
    {
     "data": {
      "image/png": "[encoded data removed]",
      "text/plain": [
       "<Figure size 432x288 with 1 Axes>"
      ]
     },
     "metadata": {},
     "output_type": "display_data"
    }
   ],
   "source": [
    "vis('driver_race')"
   ]
  },
  {
   "cell_type": "markdown",
   "id": "2179521b",
   "metadata": {},
   "source": [
    "## Details of stop_outcome:"
   ]
  },
  {
   "cell_type": "code",
   "execution_count": 18,
   "id": "7f2267f3",
   "metadata": {},
   "outputs": [
    {
     "data": {
      "text/plain": [
       "Citation            45931\n",
       "Arrest Driver        1669\n",
       "Warning              1148\n",
       "N/D                   348\n",
       "No Action             285\n",
       "Arrest Passenger      200\n",
       "Name: stop_outcome, dtype: int64"
      ]
     },
     "execution_count": 18,
     "metadata": {},
     "output_type": "execute_result"
    }
   ],
   "source": [
    "df['stop_outcome'].value_counts()"
   ]
  },
  {
   "cell_type": "markdown",
   "id": "6953ba18",
   "metadata": {},
   "source": [
    "## Explore if we have duplicated values ?"
   ]
  },
  {
   "cell_type": "code",
   "execution_count": 19,
   "id": "0341cfe6",
   "metadata": {},
   "outputs": [
    {
     "data": {
      "text/html": [
       "<div>\n",
       "<style scoped>\n",
       "    .dataframe tbody tr th:only-of-type {\n",
       "        vertical-align: middle;\n",
       "    }\n",
       "\n",
       "    .dataframe tbody tr th {\n",
       "        vertical-align: top;\n",
       "    }\n",
       "\n",
       "    .dataframe thead th {\n",
       "        text-align: right;\n",
       "    }\n",
       "</style>\n",
       "<table border=\"1\" class=\"dataframe\">\n",
       "  <thead>\n",
       "    <tr style=\"text-align: right;\">\n",
       "      <th></th>\n",
       "      <th>stop_date</th>\n",
       "      <th>stop_time</th>\n",
       "      <th>country_name</th>\n",
       "      <th>driver_gender</th>\n",
       "      <th>driver_age_raw</th>\n",
       "      <th>driver_age</th>\n",
       "      <th>driver_race</th>\n",
       "      <th>violation_raw</th>\n",
       "      <th>violation</th>\n",
       "      <th>search_conducted</th>\n",
       "      <th>search_type</th>\n",
       "      <th>stop_outcome</th>\n",
       "      <th>is_arrested</th>\n",
       "      <th>stop_duration</th>\n",
       "      <th>drugs_related_stop</th>\n",
       "    </tr>\n",
       "  </thead>\n",
       "  <tbody>\n",
       "    <tr>\n",
       "      <th>16</th>\n",
       "      <td>7/19/2005</td>\n",
       "      <td>0:30</td>\n",
       "      <td>NaN</td>\n",
       "      <td>M</td>\n",
       "      <td>1982.0</td>\n",
       "      <td>23.0</td>\n",
       "      <td>White</td>\n",
       "      <td>Speeding</td>\n",
       "      <td>Speeding</td>\n",
       "      <td>False</td>\n",
       "      <td>NaN</td>\n",
       "      <td>Citation</td>\n",
       "      <td>False</td>\n",
       "      <td>0-15 Min</td>\n",
       "      <td>False</td>\n",
       "    </tr>\n",
       "    <tr>\n",
       "      <th>104</th>\n",
       "      <td>10/3/2005</td>\n",
       "      <td>13:26</td>\n",
       "      <td>NaN</td>\n",
       "      <td>M</td>\n",
       "      <td>1975.0</td>\n",
       "      <td>30.0</td>\n",
       "      <td>Black</td>\n",
       "      <td>Speeding</td>\n",
       "      <td>Speeding</td>\n",
       "      <td>False</td>\n",
       "      <td>NaN</td>\n",
       "      <td>Arrest Driver</td>\n",
       "      <td>True</td>\n",
       "      <td>30+ Min</td>\n",
       "      <td>False</td>\n",
       "    </tr>\n",
       "    <tr>\n",
       "      <th>117</th>\n",
       "      <td>10/4/2005</td>\n",
       "      <td>0:36</td>\n",
       "      <td>NaN</td>\n",
       "      <td>M</td>\n",
       "      <td>1961.0</td>\n",
       "      <td>44.0</td>\n",
       "      <td>White</td>\n",
       "      <td>Special Detail/Directed Patrol</td>\n",
       "      <td>Other</td>\n",
       "      <td>False</td>\n",
       "      <td>NaN</td>\n",
       "      <td>Arrest Driver</td>\n",
       "      <td>True</td>\n",
       "      <td>30+ Min</td>\n",
       "      <td>False</td>\n",
       "    </tr>\n",
       "    <tr>\n",
       "      <th>149</th>\n",
       "      <td>10/5/2005</td>\n",
       "      <td>10:00</td>\n",
       "      <td>NaN</td>\n",
       "      <td>M</td>\n",
       "      <td>1981.0</td>\n",
       "      <td>24.0</td>\n",
       "      <td>White</td>\n",
       "      <td>Speeding</td>\n",
       "      <td>Speeding</td>\n",
       "      <td>False</td>\n",
       "      <td>NaN</td>\n",
       "      <td>Citation</td>\n",
       "      <td>False</td>\n",
       "      <td>0-15 Min</td>\n",
       "      <td>False</td>\n",
       "    </tr>\n",
       "    <tr>\n",
       "      <th>239</th>\n",
       "      <td>10/8/2005</td>\n",
       "      <td>12:30</td>\n",
       "      <td>NaN</td>\n",
       "      <td>M</td>\n",
       "      <td>1978.0</td>\n",
       "      <td>27.0</td>\n",
       "      <td>White</td>\n",
       "      <td>Equipment/Inspection Violation</td>\n",
       "      <td>Equipment</td>\n",
       "      <td>False</td>\n",
       "      <td>NaN</td>\n",
       "      <td>Citation</td>\n",
       "      <td>False</td>\n",
       "      <td>0-15 Min</td>\n",
       "      <td>False</td>\n",
       "    </tr>\n",
       "    <tr>\n",
       "      <th>...</th>\n",
       "      <td>...</td>\n",
       "      <td>...</td>\n",
       "      <td>...</td>\n",
       "      <td>...</td>\n",
       "      <td>...</td>\n",
       "      <td>...</td>\n",
       "      <td>...</td>\n",
       "      <td>...</td>\n",
       "      <td>...</td>\n",
       "      <td>...</td>\n",
       "      <td>...</td>\n",
       "      <td>...</td>\n",
       "      <td>...</td>\n",
       "      <td>...</td>\n",
       "      <td>...</td>\n",
       "    </tr>\n",
       "    <tr>\n",
       "      <th>52480</th>\n",
       "      <td>9/15/2011</td>\n",
       "      <td>0:02</td>\n",
       "      <td>NaN</td>\n",
       "      <td>NaN</td>\n",
       "      <td>NaN</td>\n",
       "      <td>NaN</td>\n",
       "      <td>NaN</td>\n",
       "      <td>NaN</td>\n",
       "      <td>NaN</td>\n",
       "      <td>False</td>\n",
       "      <td>NaN</td>\n",
       "      <td>NaN</td>\n",
       "      <td>NaN</td>\n",
       "      <td>NaN</td>\n",
       "      <td>False</td>\n",
       "    </tr>\n",
       "    <tr>\n",
       "      <th>52584</th>\n",
       "      <td>9/19/2011</td>\n",
       "      <td>1:57</td>\n",
       "      <td>NaN</td>\n",
       "      <td>NaN</td>\n",
       "      <td>NaN</td>\n",
       "      <td>NaN</td>\n",
       "      <td>NaN</td>\n",
       "      <td>NaN</td>\n",
       "      <td>NaN</td>\n",
       "      <td>False</td>\n",
       "      <td>NaN</td>\n",
       "      <td>NaN</td>\n",
       "      <td>NaN</td>\n",
       "      <td>NaN</td>\n",
       "      <td>False</td>\n",
       "    </tr>\n",
       "    <tr>\n",
       "      <th>52696</th>\n",
       "      <td>9/23/2011</td>\n",
       "      <td>1:40</td>\n",
       "      <td>NaN</td>\n",
       "      <td>NaN</td>\n",
       "      <td>NaN</td>\n",
       "      <td>NaN</td>\n",
       "      <td>NaN</td>\n",
       "      <td>NaN</td>\n",
       "      <td>NaN</td>\n",
       "      <td>False</td>\n",
       "      <td>NaN</td>\n",
       "      <td>NaN</td>\n",
       "      <td>NaN</td>\n",
       "      <td>NaN</td>\n",
       "      <td>False</td>\n",
       "    </tr>\n",
       "    <tr>\n",
       "      <th>52772</th>\n",
       "      <td>9/26/2011</td>\n",
       "      <td>13:15</td>\n",
       "      <td>NaN</td>\n",
       "      <td>NaN</td>\n",
       "      <td>NaN</td>\n",
       "      <td>NaN</td>\n",
       "      <td>NaN</td>\n",
       "      <td>NaN</td>\n",
       "      <td>NaN</td>\n",
       "      <td>False</td>\n",
       "      <td>NaN</td>\n",
       "      <td>NaN</td>\n",
       "      <td>NaN</td>\n",
       "      <td>NaN</td>\n",
       "      <td>False</td>\n",
       "    </tr>\n",
       "    <tr>\n",
       "      <th>52961</th>\n",
       "      <td>10/5/2011</td>\n",
       "      <td>1:55</td>\n",
       "      <td>NaN</td>\n",
       "      <td>NaN</td>\n",
       "      <td>NaN</td>\n",
       "      <td>NaN</td>\n",
       "      <td>NaN</td>\n",
       "      <td>NaN</td>\n",
       "      <td>NaN</td>\n",
       "      <td>False</td>\n",
       "      <td>NaN</td>\n",
       "      <td>NaN</td>\n",
       "      <td>NaN</td>\n",
       "      <td>NaN</td>\n",
       "      <td>False</td>\n",
       "    </tr>\n",
       "  </tbody>\n",
       "</table>\n",
       "<p>286 rows × 15 columns</p>\n",
       "</div>"
      ],
      "text/plain": [
       "       stop_date stop_time  country_name driver_gender  driver_age_raw  \\\n",
       "16     7/19/2005      0:30           NaN             M          1982.0   \n",
       "104    10/3/2005     13:26           NaN             M          1975.0   \n",
       "117    10/4/2005      0:36           NaN             M          1961.0   \n",
       "149    10/5/2005     10:00           NaN             M          1981.0   \n",
       "239    10/8/2005     12:30           NaN             M          1978.0   \n",
       "...          ...       ...           ...           ...             ...   \n",
       "52480  9/15/2011      0:02           NaN           NaN             NaN   \n",
       "52584  9/19/2011      1:57           NaN           NaN             NaN   \n",
       "52696  9/23/2011      1:40           NaN           NaN             NaN   \n",
       "52772  9/26/2011     13:15           NaN           NaN             NaN   \n",
       "52961  10/5/2011      1:55           NaN           NaN             NaN   \n",
       "\n",
       "       driver_age driver_race                   violation_raw  violation  \\\n",
       "16           23.0       White                        Speeding   Speeding   \n",
       "104          30.0       Black                        Speeding   Speeding   \n",
       "117          44.0       White  Special Detail/Directed Patrol      Other   \n",
       "149          24.0       White                        Speeding   Speeding   \n",
       "239          27.0       White  Equipment/Inspection Violation  Equipment   \n",
       "...           ...         ...                             ...        ...   \n",
       "52480         NaN         NaN                             NaN        NaN   \n",
       "52584         NaN         NaN                             NaN        NaN   \n",
       "52696         NaN         NaN                             NaN        NaN   \n",
       "52772         NaN         NaN                             NaN        NaN   \n",
       "52961         NaN         NaN                             NaN        NaN   \n",
       "\n",
       "      search_conducted search_type   stop_outcome is_arrested stop_duration  \\\n",
       "16               False         NaN       Citation       False      0-15 Min   \n",
       "104              False         NaN  Arrest Driver        True       30+ Min   \n",
       "117              False         NaN  Arrest Driver        True       30+ Min   \n",
       "149              False         NaN       Citation       False      0-15 Min   \n",
       "239              False         NaN       Citation       False      0-15 Min   \n",
       "...                ...         ...            ...         ...           ...   \n",
       "52480            False         NaN            NaN         NaN           NaN   \n",
       "52584            False         NaN            NaN         NaN           NaN   \n",
       "52696            False         NaN            NaN         NaN           NaN   \n",
       "52772            False         NaN            NaN         NaN           NaN   \n",
       "52961            False         NaN            NaN         NaN           NaN   \n",
       "\n",
       "      drugs_related_stop  \n",
       "16                 False  \n",
       "104                False  \n",
       "117                False  \n",
       "149                False  \n",
       "239                False  \n",
       "...                  ...  \n",
       "52480              False  \n",
       "52584              False  \n",
       "52696              False  \n",
       "52772              False  \n",
       "52961              False  \n",
       "\n",
       "[286 rows x 15 columns]"
      ]
     },
     "execution_count": 19,
     "metadata": {},
     "output_type": "execute_result"
    }
   ],
   "source": [
    " df[df.duplicated()]"
   ]
  },
  {
   "cell_type": "code",
   "execution_count": 20,
   "id": "e6cbfa55",
   "metadata": {},
   "outputs": [
    {
     "data": {
      "text/html": [
       "<div>\n",
       "<style scoped>\n",
       "    .dataframe tbody tr th:only-of-type {\n",
       "        vertical-align: middle;\n",
       "    }\n",
       "\n",
       "    .dataframe tbody tr th {\n",
       "        vertical-align: top;\n",
       "    }\n",
       "\n",
       "    .dataframe thead th {\n",
       "        text-align: right;\n",
       "    }\n",
       "</style>\n",
       "<table border=\"1\" class=\"dataframe\">\n",
       "  <thead>\n",
       "    <tr style=\"text-align: right;\">\n",
       "      <th></th>\n",
       "      <th>stop_date</th>\n",
       "      <th>stop_time</th>\n",
       "      <th>country_name</th>\n",
       "      <th>driver_gender</th>\n",
       "      <th>driver_age_raw</th>\n",
       "      <th>driver_age</th>\n",
       "      <th>driver_race</th>\n",
       "      <th>violation_raw</th>\n",
       "      <th>violation</th>\n",
       "      <th>search_conducted</th>\n",
       "      <th>search_type</th>\n",
       "      <th>stop_outcome</th>\n",
       "      <th>is_arrested</th>\n",
       "      <th>stop_duration</th>\n",
       "      <th>drugs_related_stop</th>\n",
       "    </tr>\n",
       "  </thead>\n",
       "  <tbody>\n",
       "    <tr>\n",
       "      <th>0</th>\n",
       "      <td>1/2/2005</td>\n",
       "      <td>1:55</td>\n",
       "      <td>NaN</td>\n",
       "      <td>M</td>\n",
       "      <td>1985.0</td>\n",
       "      <td>20.0</td>\n",
       "      <td>White</td>\n",
       "      <td>Speeding</td>\n",
       "      <td>Speeding</td>\n",
       "      <td>False</td>\n",
       "      <td>NaN</td>\n",
       "      <td>Citation</td>\n",
       "      <td>False</td>\n",
       "      <td>0-15 Min</td>\n",
       "      <td>False</td>\n",
       "    </tr>\n",
       "    <tr>\n",
       "      <th>1</th>\n",
       "      <td>1/18/2005</td>\n",
       "      <td>8:15</td>\n",
       "      <td>NaN</td>\n",
       "      <td>M</td>\n",
       "      <td>1965.0</td>\n",
       "      <td>40.0</td>\n",
       "      <td>White</td>\n",
       "      <td>Speeding</td>\n",
       "      <td>Speeding</td>\n",
       "      <td>False</td>\n",
       "      <td>NaN</td>\n",
       "      <td>Citation</td>\n",
       "      <td>False</td>\n",
       "      <td>0-15 Min</td>\n",
       "      <td>False</td>\n",
       "    </tr>\n",
       "    <tr>\n",
       "      <th>2</th>\n",
       "      <td>1/23/2005</td>\n",
       "      <td>23:15</td>\n",
       "      <td>NaN</td>\n",
       "      <td>M</td>\n",
       "      <td>1972.0</td>\n",
       "      <td>33.0</td>\n",
       "      <td>White</td>\n",
       "      <td>Speeding</td>\n",
       "      <td>Speeding</td>\n",
       "      <td>False</td>\n",
       "      <td>NaN</td>\n",
       "      <td>Citation</td>\n",
       "      <td>False</td>\n",
       "      <td>0-15 Min</td>\n",
       "      <td>False</td>\n",
       "    </tr>\n",
       "    <tr>\n",
       "      <th>3</th>\n",
       "      <td>2/20/2005</td>\n",
       "      <td>17:15</td>\n",
       "      <td>NaN</td>\n",
       "      <td>M</td>\n",
       "      <td>1986.0</td>\n",
       "      <td>19.0</td>\n",
       "      <td>White</td>\n",
       "      <td>Call for Service</td>\n",
       "      <td>Other</td>\n",
       "      <td>False</td>\n",
       "      <td>NaN</td>\n",
       "      <td>Arrest Driver</td>\n",
       "      <td>True</td>\n",
       "      <td>16-30 Min</td>\n",
       "      <td>False</td>\n",
       "    </tr>\n",
       "    <tr>\n",
       "      <th>4</th>\n",
       "      <td>3/14/2005</td>\n",
       "      <td>10:00</td>\n",
       "      <td>NaN</td>\n",
       "      <td>F</td>\n",
       "      <td>1984.0</td>\n",
       "      <td>21.0</td>\n",
       "      <td>White</td>\n",
       "      <td>Speeding</td>\n",
       "      <td>Speeding</td>\n",
       "      <td>False</td>\n",
       "      <td>NaN</td>\n",
       "      <td>Citation</td>\n",
       "      <td>False</td>\n",
       "      <td>0-15 Min</td>\n",
       "      <td>False</td>\n",
       "    </tr>\n",
       "    <tr>\n",
       "      <th>...</th>\n",
       "      <td>...</td>\n",
       "      <td>...</td>\n",
       "      <td>...</td>\n",
       "      <td>...</td>\n",
       "      <td>...</td>\n",
       "      <td>...</td>\n",
       "      <td>...</td>\n",
       "      <td>...</td>\n",
       "      <td>...</td>\n",
       "      <td>...</td>\n",
       "      <td>...</td>\n",
       "      <td>...</td>\n",
       "      <td>...</td>\n",
       "      <td>...</td>\n",
       "      <td>...</td>\n",
       "    </tr>\n",
       "    <tr>\n",
       "      <th>52961</th>\n",
       "      <td>10/5/2011</td>\n",
       "      <td>1:55</td>\n",
       "      <td>NaN</td>\n",
       "      <td>NaN</td>\n",
       "      <td>NaN</td>\n",
       "      <td>NaN</td>\n",
       "      <td>NaN</td>\n",
       "      <td>NaN</td>\n",
       "      <td>NaN</td>\n",
       "      <td>False</td>\n",
       "      <td>NaN</td>\n",
       "      <td>NaN</td>\n",
       "      <td>NaN</td>\n",
       "      <td>NaN</td>\n",
       "      <td>False</td>\n",
       "    </tr>\n",
       "    <tr>\n",
       "      <th>52962</th>\n",
       "      <td>10/5/2011</td>\n",
       "      <td>6:43</td>\n",
       "      <td>NaN</td>\n",
       "      <td>M</td>\n",
       "      <td>1986.0</td>\n",
       "      <td>25.0</td>\n",
       "      <td>White</td>\n",
       "      <td>Speeding</td>\n",
       "      <td>Speeding</td>\n",
       "      <td>False</td>\n",
       "      <td>NaN</td>\n",
       "      <td>Citation</td>\n",
       "      <td>False</td>\n",
       "      <td>0-15 Min</td>\n",
       "      <td>False</td>\n",
       "    </tr>\n",
       "    <tr>\n",
       "      <th>52963</th>\n",
       "      <td>10/5/2011</td>\n",
       "      <td>6:49</td>\n",
       "      <td>NaN</td>\n",
       "      <td>NaN</td>\n",
       "      <td>NaN</td>\n",
       "      <td>NaN</td>\n",
       "      <td>NaN</td>\n",
       "      <td>NaN</td>\n",
       "      <td>NaN</td>\n",
       "      <td>False</td>\n",
       "      <td>NaN</td>\n",
       "      <td>NaN</td>\n",
       "      <td>NaN</td>\n",
       "      <td>NaN</td>\n",
       "      <td>False</td>\n",
       "    </tr>\n",
       "    <tr>\n",
       "      <th>52964</th>\n",
       "      <td>10/5/2011</td>\n",
       "      <td>7:19</td>\n",
       "      <td>NaN</td>\n",
       "      <td>F</td>\n",
       "      <td>1986.0</td>\n",
       "      <td>25.0</td>\n",
       "      <td>White</td>\n",
       "      <td>Speeding</td>\n",
       "      <td>Speeding</td>\n",
       "      <td>False</td>\n",
       "      <td>NaN</td>\n",
       "      <td>Citation</td>\n",
       "      <td>False</td>\n",
       "      <td>0-15 Min</td>\n",
       "      <td>False</td>\n",
       "    </tr>\n",
       "    <tr>\n",
       "      <th>52965</th>\n",
       "      <td>10/5</td>\n",
       "      <td>NaN</td>\n",
       "      <td>NaN</td>\n",
       "      <td>NaN</td>\n",
       "      <td>NaN</td>\n",
       "      <td>NaN</td>\n",
       "      <td>NaN</td>\n",
       "      <td>NaN</td>\n",
       "      <td>NaN</td>\n",
       "      <td>NaN</td>\n",
       "      <td>NaN</td>\n",
       "      <td>NaN</td>\n",
       "      <td>NaN</td>\n",
       "      <td>NaN</td>\n",
       "      <td>NaN</td>\n",
       "    </tr>\n",
       "  </tbody>\n",
       "</table>\n",
       "<p>52966 rows × 15 columns</p>\n",
       "</div>"
      ],
      "text/plain": [
       "       stop_date stop_time  country_name driver_gender  driver_age_raw  \\\n",
       "0       1/2/2005      1:55           NaN             M          1985.0   \n",
       "1      1/18/2005      8:15           NaN             M          1965.0   \n",
       "2      1/23/2005     23:15           NaN             M          1972.0   \n",
       "3      2/20/2005     17:15           NaN             M          1986.0   \n",
       "4      3/14/2005     10:00           NaN             F          1984.0   \n",
       "...          ...       ...           ...           ...             ...   \n",
       "52961  10/5/2011      1:55           NaN           NaN             NaN   \n",
       "52962  10/5/2011      6:43           NaN             M          1986.0   \n",
       "52963  10/5/2011      6:49           NaN           NaN             NaN   \n",
       "52964  10/5/2011      7:19           NaN             F          1986.0   \n",
       "52965       10/5       NaN           NaN           NaN             NaN   \n",
       "\n",
       "       driver_age driver_race     violation_raw violation search_conducted  \\\n",
       "0            20.0       White          Speeding  Speeding            False   \n",
       "1            40.0       White          Speeding  Speeding            False   \n",
       "2            33.0       White          Speeding  Speeding            False   \n",
       "3            19.0       White  Call for Service     Other            False   \n",
       "4            21.0       White          Speeding  Speeding            False   \n",
       "...           ...         ...               ...       ...              ...   \n",
       "52961         NaN         NaN               NaN       NaN            False   \n",
       "52962        25.0       White          Speeding  Speeding            False   \n",
       "52963         NaN         NaN               NaN       NaN            False   \n",
       "52964        25.0       White          Speeding  Speeding            False   \n",
       "52965         NaN         NaN               NaN       NaN              NaN   \n",
       "\n",
       "      search_type   stop_outcome is_arrested stop_duration drugs_related_stop  \n",
       "0             NaN       Citation       False      0-15 Min              False  \n",
       "1             NaN       Citation       False      0-15 Min              False  \n",
       "2             NaN       Citation       False      0-15 Min              False  \n",
       "3             NaN  Arrest Driver        True     16-30 Min              False  \n",
       "4             NaN       Citation       False      0-15 Min              False  \n",
       "...           ...            ...         ...           ...                ...  \n",
       "52961         NaN            NaN         NaN           NaN              False  \n",
       "52962         NaN       Citation       False      0-15 Min              False  \n",
       "52963         NaN            NaN         NaN           NaN              False  \n",
       "52964         NaN       Citation       False      0-15 Min              False  \n",
       "52965         NaN            NaN         NaN           NaN                NaN  \n",
       "\n",
       "[52966 rows x 15 columns]"
      ]
     },
     "execution_count": 20,
     "metadata": {},
     "output_type": "execute_result"
    }
   ],
   "source": [
    "temp = df\n",
    "temp"
   ]
  },
  {
   "cell_type": "markdown",
   "id": "15b3a8ed",
   "metadata": {},
   "source": [
    "# From data wrangling:\n",
    " - (country_name) column is empty, so i will drop it.\n",
    " - (driver_age_raw) column is not accurate, it contains values makes me confused, and (driver_age) column is enough to made my analysis, so i will drop it.\n",
    " - (violation_raw) is more specific than (violation).\n",
    " - (search_type) column does not have enough data, so i will drop it.\n",
    " - The last row of this data is empty, so i wil drop it.\n",
    " - We have 286 duplicated rows, so i will drop them.\n",
    " - we have some missing values (NaN values), i will clean them.\n",
    " "
   ]
  },
  {
   "cell_type": "markdown",
   "id": "fca47beb",
   "metadata": {},
   "source": [
    "# Data cleaning:\n",
    "- In this section, i will do what i found in the privious section.\n",
    "- drop empty and useless columns.\n",
    "- modify violation column.\n",
    "- remove duplicated and NaN values"
   ]
  },
  {
   "cell_type": "code",
   "execution_count": 21,
   "id": "8a2d521a",
   "metadata": {
    "scrolled": true
   },
   "outputs": [],
   "source": [
    "## remove (country_name),(driver_age_raw),(search_type)\n",
    "df.drop(['country_name','driver_age_raw','search_type'], axis=1, inplace=True)"
   ]
  },
  {
   "cell_type": "code",
   "execution_count": 22,
   "id": "8cd1b981",
   "metadata": {},
   "outputs": [
    {
     "data": {
      "text/html": [
       "<div>\n",
       "<style scoped>\n",
       "    .dataframe tbody tr th:only-of-type {\n",
       "        vertical-align: middle;\n",
       "    }\n",
       "\n",
       "    .dataframe tbody tr th {\n",
       "        vertical-align: top;\n",
       "    }\n",
       "\n",
       "    .dataframe thead th {\n",
       "        text-align: right;\n",
       "    }\n",
       "</style>\n",
       "<table border=\"1\" class=\"dataframe\">\n",
       "  <thead>\n",
       "    <tr style=\"text-align: right;\">\n",
       "      <th></th>\n",
       "      <th>stop_date</th>\n",
       "      <th>stop_time</th>\n",
       "      <th>driver_gender</th>\n",
       "      <th>driver_age</th>\n",
       "      <th>driver_race</th>\n",
       "      <th>violation_raw</th>\n",
       "      <th>violation</th>\n",
       "      <th>search_conducted</th>\n",
       "      <th>stop_outcome</th>\n",
       "      <th>is_arrested</th>\n",
       "      <th>stop_duration</th>\n",
       "      <th>drugs_related_stop</th>\n",
       "    </tr>\n",
       "  </thead>\n",
       "  <tbody>\n",
       "    <tr>\n",
       "      <th>0</th>\n",
       "      <td>1/2/2005</td>\n",
       "      <td>1:55</td>\n",
       "      <td>M</td>\n",
       "      <td>20.0</td>\n",
       "      <td>White</td>\n",
       "      <td>Speeding</td>\n",
       "      <td>Speeding</td>\n",
       "      <td>False</td>\n",
       "      <td>Citation</td>\n",
       "      <td>False</td>\n",
       "      <td>0-15 Min</td>\n",
       "      <td>False</td>\n",
       "    </tr>\n",
       "    <tr>\n",
       "      <th>1</th>\n",
       "      <td>1/18/2005</td>\n",
       "      <td>8:15</td>\n",
       "      <td>M</td>\n",
       "      <td>40.0</td>\n",
       "      <td>White</td>\n",
       "      <td>Speeding</td>\n",
       "      <td>Speeding</td>\n",
       "      <td>False</td>\n",
       "      <td>Citation</td>\n",
       "      <td>False</td>\n",
       "      <td>0-15 Min</td>\n",
       "      <td>False</td>\n",
       "    </tr>\n",
       "    <tr>\n",
       "      <th>2</th>\n",
       "      <td>1/23/2005</td>\n",
       "      <td>23:15</td>\n",
       "      <td>M</td>\n",
       "      <td>33.0</td>\n",
       "      <td>White</td>\n",
       "      <td>Speeding</td>\n",
       "      <td>Speeding</td>\n",
       "      <td>False</td>\n",
       "      <td>Citation</td>\n",
       "      <td>False</td>\n",
       "      <td>0-15 Min</td>\n",
       "      <td>False</td>\n",
       "    </tr>\n",
       "    <tr>\n",
       "      <th>3</th>\n",
       "      <td>2/20/2005</td>\n",
       "      <td>17:15</td>\n",
       "      <td>M</td>\n",
       "      <td>19.0</td>\n",
       "      <td>White</td>\n",
       "      <td>Call for Service</td>\n",
       "      <td>Other</td>\n",
       "      <td>False</td>\n",
       "      <td>Arrest Driver</td>\n",
       "      <td>True</td>\n",
       "      <td>16-30 Min</td>\n",
       "      <td>False</td>\n",
       "    </tr>\n",
       "    <tr>\n",
       "      <th>4</th>\n",
       "      <td>3/14/2005</td>\n",
       "      <td>10:00</td>\n",
       "      <td>F</td>\n",
       "      <td>21.0</td>\n",
       "      <td>White</td>\n",
       "      <td>Speeding</td>\n",
       "      <td>Speeding</td>\n",
       "      <td>False</td>\n",
       "      <td>Citation</td>\n",
       "      <td>False</td>\n",
       "      <td>0-15 Min</td>\n",
       "      <td>False</td>\n",
       "    </tr>\n",
       "    <tr>\n",
       "      <th>...</th>\n",
       "      <td>...</td>\n",
       "      <td>...</td>\n",
       "      <td>...</td>\n",
       "      <td>...</td>\n",
       "      <td>...</td>\n",
       "      <td>...</td>\n",
       "      <td>...</td>\n",
       "      <td>...</td>\n",
       "      <td>...</td>\n",
       "      <td>...</td>\n",
       "      <td>...</td>\n",
       "      <td>...</td>\n",
       "    </tr>\n",
       "    <tr>\n",
       "      <th>52961</th>\n",
       "      <td>10/5/2011</td>\n",
       "      <td>1:55</td>\n",
       "      <td>NaN</td>\n",
       "      <td>NaN</td>\n",
       "      <td>NaN</td>\n",
       "      <td>NaN</td>\n",
       "      <td>NaN</td>\n",
       "      <td>False</td>\n",
       "      <td>NaN</td>\n",
       "      <td>NaN</td>\n",
       "      <td>NaN</td>\n",
       "      <td>False</td>\n",
       "    </tr>\n",
       "    <tr>\n",
       "      <th>52962</th>\n",
       "      <td>10/5/2011</td>\n",
       "      <td>6:43</td>\n",
       "      <td>M</td>\n",
       "      <td>25.0</td>\n",
       "      <td>White</td>\n",
       "      <td>Speeding</td>\n",
       "      <td>Speeding</td>\n",
       "      <td>False</td>\n",
       "      <td>Citation</td>\n",
       "      <td>False</td>\n",
       "      <td>0-15 Min</td>\n",
       "      <td>False</td>\n",
       "    </tr>\n",
       "    <tr>\n",
       "      <th>52963</th>\n",
       "      <td>10/5/2011</td>\n",
       "      <td>6:49</td>\n",
       "      <td>NaN</td>\n",
       "      <td>NaN</td>\n",
       "      <td>NaN</td>\n",
       "      <td>NaN</td>\n",
       "      <td>NaN</td>\n",
       "      <td>False</td>\n",
       "      <td>NaN</td>\n",
       "      <td>NaN</td>\n",
       "      <td>NaN</td>\n",
       "      <td>False</td>\n",
       "    </tr>\n",
       "    <tr>\n",
       "      <th>52964</th>\n",
       "      <td>10/5/2011</td>\n",
       "      <td>7:19</td>\n",
       "      <td>F</td>\n",
       "      <td>25.0</td>\n",
       "      <td>White</td>\n",
       "      <td>Speeding</td>\n",
       "      <td>Speeding</td>\n",
       "      <td>False</td>\n",
       "      <td>Citation</td>\n",
       "      <td>False</td>\n",
       "      <td>0-15 Min</td>\n",
       "      <td>False</td>\n",
       "    </tr>\n",
       "    <tr>\n",
       "      <th>52965</th>\n",
       "      <td>10/5</td>\n",
       "      <td>NaN</td>\n",
       "      <td>NaN</td>\n",
       "      <td>NaN</td>\n",
       "      <td>NaN</td>\n",
       "      <td>NaN</td>\n",
       "      <td>NaN</td>\n",
       "      <td>NaN</td>\n",
       "      <td>NaN</td>\n",
       "      <td>NaN</td>\n",
       "      <td>NaN</td>\n",
       "      <td>NaN</td>\n",
       "    </tr>\n",
       "  </tbody>\n",
       "</table>\n",
       "<p>52966 rows × 12 columns</p>\n",
       "</div>"
      ],
      "text/plain": [
       "       stop_date stop_time driver_gender  driver_age driver_race  \\\n",
       "0       1/2/2005      1:55             M        20.0       White   \n",
       "1      1/18/2005      8:15             M        40.0       White   \n",
       "2      1/23/2005     23:15             M        33.0       White   \n",
       "3      2/20/2005     17:15             M        19.0       White   \n",
       "4      3/14/2005     10:00             F        21.0       White   \n",
       "...          ...       ...           ...         ...         ...   \n",
       "52961  10/5/2011      1:55           NaN         NaN         NaN   \n",
       "52962  10/5/2011      6:43             M        25.0       White   \n",
       "52963  10/5/2011      6:49           NaN         NaN         NaN   \n",
       "52964  10/5/2011      7:19             F        25.0       White   \n",
       "52965       10/5       NaN           NaN         NaN         NaN   \n",
       "\n",
       "          violation_raw violation search_conducted   stop_outcome is_arrested  \\\n",
       "0              Speeding  Speeding            False       Citation       False   \n",
       "1              Speeding  Speeding            False       Citation       False   \n",
       "2              Speeding  Speeding            False       Citation       False   \n",
       "3      Call for Service     Other            False  Arrest Driver        True   \n",
       "4              Speeding  Speeding            False       Citation       False   \n",
       "...                 ...       ...              ...            ...         ...   \n",
       "52961               NaN       NaN            False            NaN         NaN   \n",
       "52962          Speeding  Speeding            False       Citation       False   \n",
       "52963               NaN       NaN            False            NaN         NaN   \n",
       "52964          Speeding  Speeding            False       Citation       False   \n",
       "52965               NaN       NaN              NaN            NaN         NaN   \n",
       "\n",
       "      stop_duration drugs_related_stop  \n",
       "0          0-15 Min              False  \n",
       "1          0-15 Min              False  \n",
       "2          0-15 Min              False  \n",
       "3         16-30 Min              False  \n",
       "4          0-15 Min              False  \n",
       "...             ...                ...  \n",
       "52961           NaN              False  \n",
       "52962      0-15 Min              False  \n",
       "52963           NaN              False  \n",
       "52964      0-15 Min              False  \n",
       "52965           NaN                NaN  \n",
       "\n",
       "[52966 rows x 12 columns]"
      ]
     },
     "execution_count": 22,
     "metadata": {},
     "output_type": "execute_result"
    }
   ],
   "source": [
    "df"
   ]
  },
  {
   "cell_type": "code",
   "execution_count": 23,
   "id": "1a7632a9",
   "metadata": {},
   "outputs": [],
   "source": [
    "## modify violation_raw\n",
    "df['violation_raw'].replace(['Call for Service','Violation of City/Town Ordinance','Motorist Assist/Courtesy','APB','Suspicious Person','Warrant','Other Traffic Violation'],'other',inplace=True)"
   ]
  },
  {
   "cell_type": "code",
   "execution_count": 24,
   "id": "e8fd786a",
   "metadata": {},
   "outputs": [
    {
     "data": {
      "image/png": "[encoded data removed]",
      "text/plain": [
       "<Figure size 432x288 with 1 Axes>"
      ]
     },
     "metadata": {},
     "output_type": "display_data"
    }
   ],
   "source": [
    "vis('violation_raw')"
   ]
  },
  {
   "cell_type": "code",
   "execution_count": 25,
   "id": "d40361fc",
   "metadata": {
    "scrolled": true
   },
   "outputs": [],
   "source": [
    "## remove violation column, because vilation raw after modification is enough\n",
    "df.drop('violation', axis=1, inplace=True)"
   ]
  },
  {
   "cell_type": "code",
   "execution_count": 26,
   "id": "7de19ee7",
   "metadata": {},
   "outputs": [],
   "source": [
    "## remove duplicated values:\n",
    "df.drop_duplicates(inplace=True)"
   ]
  },
  {
   "cell_type": "code",
   "execution_count": 27,
   "id": "1c889a72",
   "metadata": {},
   "outputs": [],
   "source": [
    "## remove NaN values:\n",
    "df.dropna(inplace=True)"
   ]
  },
  {
   "cell_type": "markdown",
   "id": "8a903dc8",
   "metadata": {},
   "source": [
    "# Exploratory Data Analysis:"
   ]
  },
  {
   "cell_type": "code",
   "execution_count": 28,
   "id": "22e97d42",
   "metadata": {
    "scrolled": true
   },
   "outputs": [
    {
     "data": {
      "text/html": [
       "<div>\n",
       "<style scoped>\n",
       "    .dataframe tbody tr th:only-of-type {\n",
       "        vertical-align: middle;\n",
       "    }\n",
       "\n",
       "    .dataframe tbody tr th {\n",
       "        vertical-align: top;\n",
       "    }\n",
       "\n",
       "    .dataframe thead th {\n",
       "        text-align: right;\n",
       "    }\n",
       "</style>\n",
       "<table border=\"1\" class=\"dataframe\">\n",
       "  <thead>\n",
       "    <tr style=\"text-align: right;\">\n",
       "      <th></th>\n",
       "      <th>stop_date</th>\n",
       "      <th>stop_time</th>\n",
       "      <th>driver_gender</th>\n",
       "      <th>driver_age</th>\n",
       "      <th>driver_race</th>\n",
       "      <th>violation_raw</th>\n",
       "      <th>search_conducted</th>\n",
       "      <th>stop_outcome</th>\n",
       "      <th>is_arrested</th>\n",
       "      <th>stop_duration</th>\n",
       "      <th>drugs_related_stop</th>\n",
       "    </tr>\n",
       "  </thead>\n",
       "  <tbody>\n",
       "    <tr>\n",
       "      <th>0</th>\n",
       "      <td>1/2/2005</td>\n",
       "      <td>1:55</td>\n",
       "      <td>M</td>\n",
       "      <td>20.0</td>\n",
       "      <td>White</td>\n",
       "      <td>Speeding</td>\n",
       "      <td>False</td>\n",
       "      <td>Citation</td>\n",
       "      <td>False</td>\n",
       "      <td>0-15 Min</td>\n",
       "      <td>False</td>\n",
       "    </tr>\n",
       "    <tr>\n",
       "      <th>1</th>\n",
       "      <td>1/18/2005</td>\n",
       "      <td>8:15</td>\n",
       "      <td>M</td>\n",
       "      <td>40.0</td>\n",
       "      <td>White</td>\n",
       "      <td>Speeding</td>\n",
       "      <td>False</td>\n",
       "      <td>Citation</td>\n",
       "      <td>False</td>\n",
       "      <td>0-15 Min</td>\n",
       "      <td>False</td>\n",
       "    </tr>\n",
       "    <tr>\n",
       "      <th>2</th>\n",
       "      <td>1/23/2005</td>\n",
       "      <td>23:15</td>\n",
       "      <td>M</td>\n",
       "      <td>33.0</td>\n",
       "      <td>White</td>\n",
       "      <td>Speeding</td>\n",
       "      <td>False</td>\n",
       "      <td>Citation</td>\n",
       "      <td>False</td>\n",
       "      <td>0-15 Min</td>\n",
       "      <td>False</td>\n",
       "    </tr>\n",
       "    <tr>\n",
       "      <th>3</th>\n",
       "      <td>2/20/2005</td>\n",
       "      <td>17:15</td>\n",
       "      <td>M</td>\n",
       "      <td>19.0</td>\n",
       "      <td>White</td>\n",
       "      <td>other</td>\n",
       "      <td>False</td>\n",
       "      <td>Arrest Driver</td>\n",
       "      <td>True</td>\n",
       "      <td>16-30 Min</td>\n",
       "      <td>False</td>\n",
       "    </tr>\n",
       "    <tr>\n",
       "      <th>4</th>\n",
       "      <td>3/14/2005</td>\n",
       "      <td>10:00</td>\n",
       "      <td>F</td>\n",
       "      <td>21.0</td>\n",
       "      <td>White</td>\n",
       "      <td>Speeding</td>\n",
       "      <td>False</td>\n",
       "      <td>Citation</td>\n",
       "      <td>False</td>\n",
       "      <td>0-15 Min</td>\n",
       "      <td>False</td>\n",
       "    </tr>\n",
       "    <tr>\n",
       "      <th>...</th>\n",
       "      <td>...</td>\n",
       "      <td>...</td>\n",
       "      <td>...</td>\n",
       "      <td>...</td>\n",
       "      <td>...</td>\n",
       "      <td>...</td>\n",
       "      <td>...</td>\n",
       "      <td>...</td>\n",
       "      <td>...</td>\n",
       "      <td>...</td>\n",
       "      <td>...</td>\n",
       "    </tr>\n",
       "    <tr>\n",
       "      <th>52956</th>\n",
       "      <td>10/4/2011</td>\n",
       "      <td>22:22</td>\n",
       "      <td>M</td>\n",
       "      <td>32.0</td>\n",
       "      <td>White</td>\n",
       "      <td>Speeding</td>\n",
       "      <td>False</td>\n",
       "      <td>Arrest Driver</td>\n",
       "      <td>True</td>\n",
       "      <td>0-15 Min</td>\n",
       "      <td>False</td>\n",
       "    </tr>\n",
       "    <tr>\n",
       "      <th>52958</th>\n",
       "      <td>10/4/2011</td>\n",
       "      <td>22:36</td>\n",
       "      <td>F</td>\n",
       "      <td>44.0</td>\n",
       "      <td>Hispanic</td>\n",
       "      <td>Speeding</td>\n",
       "      <td>False</td>\n",
       "      <td>Citation</td>\n",
       "      <td>False</td>\n",
       "      <td>0-15 Min</td>\n",
       "      <td>False</td>\n",
       "    </tr>\n",
       "    <tr>\n",
       "      <th>52959</th>\n",
       "      <td>10/4/2011</td>\n",
       "      <td>23:25</td>\n",
       "      <td>F</td>\n",
       "      <td>20.0</td>\n",
       "      <td>Black</td>\n",
       "      <td>Speeding</td>\n",
       "      <td>False</td>\n",
       "      <td>Citation</td>\n",
       "      <td>False</td>\n",
       "      <td>0-15 Min</td>\n",
       "      <td>False</td>\n",
       "    </tr>\n",
       "    <tr>\n",
       "      <th>52962</th>\n",
       "      <td>10/5/2011</td>\n",
       "      <td>6:43</td>\n",
       "      <td>M</td>\n",
       "      <td>25.0</td>\n",
       "      <td>White</td>\n",
       "      <td>Speeding</td>\n",
       "      <td>False</td>\n",
       "      <td>Citation</td>\n",
       "      <td>False</td>\n",
       "      <td>0-15 Min</td>\n",
       "      <td>False</td>\n",
       "    </tr>\n",
       "    <tr>\n",
       "      <th>52964</th>\n",
       "      <td>10/5/2011</td>\n",
       "      <td>7:19</td>\n",
       "      <td>F</td>\n",
       "      <td>25.0</td>\n",
       "      <td>White</td>\n",
       "      <td>Speeding</td>\n",
       "      <td>False</td>\n",
       "      <td>Citation</td>\n",
       "      <td>False</td>\n",
       "      <td>0-15 Min</td>\n",
       "      <td>False</td>\n",
       "    </tr>\n",
       "  </tbody>\n",
       "</table>\n",
       "<p>49171 rows × 11 columns</p>\n",
       "</div>"
      ],
      "text/plain": [
       "       stop_date stop_time driver_gender  driver_age driver_race  \\\n",
       "0       1/2/2005      1:55             M        20.0       White   \n",
       "1      1/18/2005      8:15             M        40.0       White   \n",
       "2      1/23/2005     23:15             M        33.0       White   \n",
       "3      2/20/2005     17:15             M        19.0       White   \n",
       "4      3/14/2005     10:00             F        21.0       White   \n",
       "...          ...       ...           ...         ...         ...   \n",
       "52956  10/4/2011     22:22             M        32.0       White   \n",
       "52958  10/4/2011     22:36             F        44.0    Hispanic   \n",
       "52959  10/4/2011     23:25             F        20.0       Black   \n",
       "52962  10/5/2011      6:43             M        25.0       White   \n",
       "52964  10/5/2011      7:19             F        25.0       White   \n",
       "\n",
       "      violation_raw search_conducted   stop_outcome is_arrested stop_duration  \\\n",
       "0          Speeding            False       Citation       False      0-15 Min   \n",
       "1          Speeding            False       Citation       False      0-15 Min   \n",
       "2          Speeding            False       Citation       False      0-15 Min   \n",
       "3             other            False  Arrest Driver        True     16-30 Min   \n",
       "4          Speeding            False       Citation       False      0-15 Min   \n",
       "...             ...              ...            ...         ...           ...   \n",
       "52956      Speeding            False  Arrest Driver        True      0-15 Min   \n",
       "52958      Speeding            False       Citation       False      0-15 Min   \n",
       "52959      Speeding            False       Citation       False      0-15 Min   \n",
       "52962      Speeding            False       Citation       False      0-15 Min   \n",
       "52964      Speeding            False       Citation       False      0-15 Min   \n",
       "\n",
       "      drugs_related_stop  \n",
       "0                  False  \n",
       "1                  False  \n",
       "2                  False  \n",
       "3                  False  \n",
       "4                  False  \n",
       "...                  ...  \n",
       "52956              False  \n",
       "52958              False  \n",
       "52959              False  \n",
       "52962              False  \n",
       "52964              False  \n",
       "\n",
       "[49171 rows x 11 columns]"
      ]
     },
     "execution_count": 28,
     "metadata": {},
     "output_type": "execute_result"
    }
   ],
   "source": [
    "df"
   ]
  },
  {
   "cell_type": "markdown",
   "id": "a6f36cbc",
   "metadata": {},
   "source": [
    "## Tabular summaries of the data in the form of crosstabs:"
   ]
  },
  {
   "cell_type": "code",
   "execution_count": 67,
   "id": "83cc7b40",
   "metadata": {},
   "outputs": [
    {
     "data": {
      "text/html": [
       "<div>\n",
       "<style scoped>\n",
       "    .dataframe tbody tr th:only-of-type {\n",
       "        vertical-align: middle;\n",
       "    }\n",
       "\n",
       "    .dataframe tbody tr th {\n",
       "        vertical-align: top;\n",
       "    }\n",
       "\n",
       "    .dataframe thead th {\n",
       "        text-align: right;\n",
       "    }\n",
       "</style>\n",
       "<table border=\"1\" class=\"dataframe\">\n",
       "  <thead>\n",
       "    <tr style=\"text-align: right;\">\n",
       "      <th>drugs_related_stop</th>\n",
       "      <th>False</th>\n",
       "      <th>True</th>\n",
       "    </tr>\n",
       "    <tr>\n",
       "      <th>violation_raw</th>\n",
       "      <th></th>\n",
       "      <th></th>\n",
       "    </tr>\n",
       "  </thead>\n",
       "  <tbody>\n",
       "    <tr>\n",
       "      <th>Equipment/Inspection Violation</th>\n",
       "      <td>4166</td>\n",
       "      <td>90</td>\n",
       "    </tr>\n",
       "    <tr>\n",
       "      <th>Registration Violation</th>\n",
       "      <td>1770</td>\n",
       "      <td>30</td>\n",
       "    </tr>\n",
       "    <tr>\n",
       "      <th>Special Detail/Directed Patrol</th>\n",
       "      <td>1865</td>\n",
       "      <td>3</td>\n",
       "    </tr>\n",
       "    <tr>\n",
       "      <th>Speeding</th>\n",
       "      <td>31819</td>\n",
       "      <td>145</td>\n",
       "    </tr>\n",
       "    <tr>\n",
       "      <th>other</th>\n",
       "      <td>9156</td>\n",
       "      <td>127</td>\n",
       "    </tr>\n",
       "  </tbody>\n",
       "</table>\n",
       "</div>"
      ],
      "text/plain": [
       "drugs_related_stop              False  True\n",
       "violation_raw                              \n",
       "Equipment/Inspection Violation   4166    90\n",
       "Registration Violation           1770    30\n",
       "Special Detail/Directed Patrol   1865     3\n",
       "Speeding                        31819   145\n",
       "other                            9156   127"
      ]
     },
     "execution_count": 67,
     "metadata": {},
     "output_type": "execute_result"
    }
   ],
   "source": [
    "pd.crosstab(df['violation_raw'], df['drugs_related_stop'])"
   ]
  },
  {
   "cell_type": "code",
   "execution_count": 68,
   "id": "afbc1673",
   "metadata": {
    "scrolled": true
   },
   "outputs": [
    {
     "data": {
      "text/html": [
       "<div>\n",
       "<style scoped>\n",
       "    .dataframe tbody tr th:only-of-type {\n",
       "        vertical-align: middle;\n",
       "    }\n",
       "\n",
       "    .dataframe tbody tr th {\n",
       "        vertical-align: top;\n",
       "    }\n",
       "\n",
       "    .dataframe thead th {\n",
       "        text-align: right;\n",
       "    }\n",
       "</style>\n",
       "<table border=\"1\" class=\"dataframe\">\n",
       "  <thead>\n",
       "    <tr style=\"text-align: right;\">\n",
       "      <th>driver_gender</th>\n",
       "      <th>F</th>\n",
       "      <th>M</th>\n",
       "    </tr>\n",
       "    <tr>\n",
       "      <th>violation_raw</th>\n",
       "      <th></th>\n",
       "      <th></th>\n",
       "    </tr>\n",
       "  </thead>\n",
       "  <tbody>\n",
       "    <tr>\n",
       "      <th>Equipment/Inspection Violation</th>\n",
       "      <td>851</td>\n",
       "      <td>3405</td>\n",
       "    </tr>\n",
       "    <tr>\n",
       "      <th>Registration Violation</th>\n",
       "      <td>498</td>\n",
       "      <td>1302</td>\n",
       "    </tr>\n",
       "    <tr>\n",
       "      <th>Special Detail/Directed Patrol</th>\n",
       "      <td>53</td>\n",
       "      <td>1815</td>\n",
       "    </tr>\n",
       "    <tr>\n",
       "      <th>Speeding</th>\n",
       "      <td>9865</td>\n",
       "      <td>22099</td>\n",
       "    </tr>\n",
       "    <tr>\n",
       "      <th>other</th>\n",
       "      <td>1678</td>\n",
       "      <td>7605</td>\n",
       "    </tr>\n",
       "  </tbody>\n",
       "</table>\n",
       "</div>"
      ],
      "text/plain": [
       "driver_gender                      F      M\n",
       "violation_raw                              \n",
       "Equipment/Inspection Violation   851   3405\n",
       "Registration Violation           498   1302\n",
       "Special Detail/Directed Patrol    53   1815\n",
       "Speeding                        9865  22099\n",
       "other                           1678   7605"
      ]
     },
     "execution_count": 68,
     "metadata": {},
     "output_type": "execute_result"
    }
   ],
   "source": [
    "pd.crosstab(df['violation_raw'], df['driver_gender'])"
   ]
  },
  {
   "cell_type": "code",
   "execution_count": 69,
   "id": "4fc895c4",
   "metadata": {
    "scrolled": true
   },
   "outputs": [
    {
     "data": {
      "text/html": [
       "<div>\n",
       "<style scoped>\n",
       "    .dataframe tbody tr th:only-of-type {\n",
       "        vertical-align: middle;\n",
       "    }\n",
       "\n",
       "    .dataframe tbody tr th {\n",
       "        vertical-align: top;\n",
       "    }\n",
       "\n",
       "    .dataframe thead th {\n",
       "        text-align: right;\n",
       "    }\n",
       "</style>\n",
       "<table border=\"1\" class=\"dataframe\">\n",
       "  <thead>\n",
       "    <tr style=\"text-align: right;\">\n",
       "      <th>driver_race</th>\n",
       "      <th>Asian</th>\n",
       "      <th>Black</th>\n",
       "      <th>Hispanic</th>\n",
       "      <th>Other</th>\n",
       "      <th>White</th>\n",
       "    </tr>\n",
       "    <tr>\n",
       "      <th>violation_raw</th>\n",
       "      <th></th>\n",
       "      <th></th>\n",
       "      <th></th>\n",
       "      <th></th>\n",
       "      <th></th>\n",
       "    </tr>\n",
       "  </thead>\n",
       "  <tbody>\n",
       "    <tr>\n",
       "      <th>Equipment/Inspection Violation</th>\n",
       "      <td>92</td>\n",
       "      <td>855</td>\n",
       "      <td>649</td>\n",
       "      <td>7</td>\n",
       "      <td>2653</td>\n",
       "    </tr>\n",
       "    <tr>\n",
       "      <th>Registration Violation</th>\n",
       "      <td>25</td>\n",
       "      <td>423</td>\n",
       "      <td>355</td>\n",
       "      <td>1</td>\n",
       "      <td>996</td>\n",
       "    </tr>\n",
       "    <tr>\n",
       "      <th>Special Detail/Directed Patrol</th>\n",
       "      <td>41</td>\n",
       "      <td>499</td>\n",
       "      <td>228</td>\n",
       "      <td>15</td>\n",
       "      <td>1085</td>\n",
       "    </tr>\n",
       "    <tr>\n",
       "      <th>Speeding</th>\n",
       "      <td>1030</td>\n",
       "      <td>3109</td>\n",
       "      <td>1682</td>\n",
       "      <td>88</td>\n",
       "      <td>26055</td>\n",
       "    </tr>\n",
       "    <tr>\n",
       "      <th>other</th>\n",
       "      <td>179</td>\n",
       "      <td>1646</td>\n",
       "      <td>1142</td>\n",
       "      <td>36</td>\n",
       "      <td>6280</td>\n",
       "    </tr>\n",
       "  </tbody>\n",
       "</table>\n",
       "</div>"
      ],
      "text/plain": [
       "driver_race                     Asian  Black  Hispanic  Other  White\n",
       "violation_raw                                                       \n",
       "Equipment/Inspection Violation     92    855       649      7   2653\n",
       "Registration Violation             25    423       355      1    996\n",
       "Special Detail/Directed Patrol     41    499       228     15   1085\n",
       "Speeding                         1030   3109      1682     88  26055\n",
       "other                             179   1646      1142     36   6280"
      ]
     },
     "execution_count": 69,
     "metadata": {},
     "output_type": "execute_result"
    }
   ],
   "source": [
    "pd.crosstab(df['violation_raw'], df['driver_race'])"
   ]
  },
  {
   "cell_type": "code",
   "execution_count": 71,
   "id": "99a79218",
   "metadata": {},
   "outputs": [
    {
     "data": {
      "text/html": [
       "<div>\n",
       "<style scoped>\n",
       "    .dataframe tbody tr th:only-of-type {\n",
       "        vertical-align: middle;\n",
       "    }\n",
       "\n",
       "    .dataframe tbody tr th {\n",
       "        vertical-align: top;\n",
       "    }\n",
       "\n",
       "    .dataframe thead th {\n",
       "        text-align: right;\n",
       "    }\n",
       "</style>\n",
       "<table border=\"1\" class=\"dataframe\">\n",
       "  <thead>\n",
       "    <tr style=\"text-align: right;\">\n",
       "      <th>stop_outcome</th>\n",
       "      <th>Arrest Driver</th>\n",
       "      <th>Arrest Passenger</th>\n",
       "      <th>Citation</th>\n",
       "      <th>N/D</th>\n",
       "      <th>No Action</th>\n",
       "      <th>Warning</th>\n",
       "    </tr>\n",
       "    <tr>\n",
       "      <th>violation_raw</th>\n",
       "      <th></th>\n",
       "      <th></th>\n",
       "      <th></th>\n",
       "      <th></th>\n",
       "      <th></th>\n",
       "      <th></th>\n",
       "    </tr>\n",
       "  </thead>\n",
       "  <tbody>\n",
       "    <tr>\n",
       "      <th>Equipment/Inspection Violation</th>\n",
       "      <td>279</td>\n",
       "      <td>81</td>\n",
       "      <td>3273</td>\n",
       "      <td>261</td>\n",
       "      <td>25</td>\n",
       "      <td>337</td>\n",
       "    </tr>\n",
       "    <tr>\n",
       "      <th>Registration Violation</th>\n",
       "      <td>217</td>\n",
       "      <td>23</td>\n",
       "      <td>1502</td>\n",
       "      <td>12</td>\n",
       "      <td>12</td>\n",
       "      <td>34</td>\n",
       "    </tr>\n",
       "    <tr>\n",
       "      <th>Special Detail/Directed Patrol</th>\n",
       "      <td>9</td>\n",
       "      <td>0</td>\n",
       "      <td>1846</td>\n",
       "      <td>0</td>\n",
       "      <td>8</td>\n",
       "      <td>5</td>\n",
       "    </tr>\n",
       "    <tr>\n",
       "      <th>Speeding</th>\n",
       "      <td>444</td>\n",
       "      <td>42</td>\n",
       "      <td>30971</td>\n",
       "      <td>41</td>\n",
       "      <td>20</td>\n",
       "      <td>446</td>\n",
       "    </tr>\n",
       "    <tr>\n",
       "      <th>other</th>\n",
       "      <td>693</td>\n",
       "      <td>54</td>\n",
       "      <td>8033</td>\n",
       "      <td>34</td>\n",
       "      <td>197</td>\n",
       "      <td>272</td>\n",
       "    </tr>\n",
       "  </tbody>\n",
       "</table>\n",
       "</div>"
      ],
      "text/plain": [
       "stop_outcome                    Arrest Driver  Arrest Passenger  Citation  \\\n",
       "violation_raw                                                               \n",
       "Equipment/Inspection Violation            279                81      3273   \n",
       "Registration Violation                    217                23      1502   \n",
       "Special Detail/Directed Patrol              9                 0      1846   \n",
       "Speeding                                  444                42     30971   \n",
       "other                                     693                54      8033   \n",
       "\n",
       "stop_outcome                    N/D  No Action  Warning  \n",
       "violation_raw                                            \n",
       "Equipment/Inspection Violation  261         25      337  \n",
       "Registration Violation           12         12       34  \n",
       "Special Detail/Directed Patrol    0          8        5  \n",
       "Speeding                         41         20      446  \n",
       "other                            34        197      272  "
      ]
     },
     "execution_count": 71,
     "metadata": {},
     "output_type": "execute_result"
    }
   ],
   "source": [
    "pd.crosstab(df['violation_raw'], df['stop_outcome'])"
   ]
  },
  {
   "cell_type": "code",
   "execution_count": 72,
   "id": "abb34ec7",
   "metadata": {},
   "outputs": [
    {
     "data": {
      "text/html": [
       "<div>\n",
       "<style scoped>\n",
       "    .dataframe tbody tr th:only-of-type {\n",
       "        vertical-align: middle;\n",
       "    }\n",
       "\n",
       "    .dataframe tbody tr th {\n",
       "        vertical-align: top;\n",
       "    }\n",
       "\n",
       "    .dataframe thead th {\n",
       "        text-align: right;\n",
       "    }\n",
       "</style>\n",
       "<table border=\"1\" class=\"dataframe\">\n",
       "  <thead>\n",
       "    <tr style=\"text-align: right;\">\n",
       "      <th>is_arrested</th>\n",
       "      <th>False</th>\n",
       "      <th>True</th>\n",
       "    </tr>\n",
       "    <tr>\n",
       "      <th>violation_raw</th>\n",
       "      <th></th>\n",
       "      <th></th>\n",
       "    </tr>\n",
       "  </thead>\n",
       "  <tbody>\n",
       "    <tr>\n",
       "      <th>Equipment/Inspection Violation</th>\n",
       "      <td>3896</td>\n",
       "      <td>360</td>\n",
       "    </tr>\n",
       "    <tr>\n",
       "      <th>Registration Violation</th>\n",
       "      <td>1560</td>\n",
       "      <td>240</td>\n",
       "    </tr>\n",
       "    <tr>\n",
       "      <th>Special Detail/Directed Patrol</th>\n",
       "      <td>1859</td>\n",
       "      <td>9</td>\n",
       "    </tr>\n",
       "    <tr>\n",
       "      <th>Speeding</th>\n",
       "      <td>31478</td>\n",
       "      <td>486</td>\n",
       "    </tr>\n",
       "    <tr>\n",
       "      <th>other</th>\n",
       "      <td>8536</td>\n",
       "      <td>747</td>\n",
       "    </tr>\n",
       "  </tbody>\n",
       "</table>\n",
       "</div>"
      ],
      "text/plain": [
       "is_arrested                     False  True\n",
       "violation_raw                              \n",
       "Equipment/Inspection Violation   3896   360\n",
       "Registration Violation           1560   240\n",
       "Special Detail/Directed Patrol   1859     9\n",
       "Speeding                        31478   486\n",
       "other                            8536   747"
      ]
     },
     "execution_count": 72,
     "metadata": {},
     "output_type": "execute_result"
    }
   ],
   "source": [
    "pd.crosstab(df['violation_raw'], df['is_arrested'])"
   ]
  },
  {
   "cell_type": "code",
   "execution_count": 29,
   "id": "b175fac4",
   "metadata": {},
   "outputs": [
    {
     "data": {
      "text/html": [
       "<div>\n",
       "<style scoped>\n",
       "    .dataframe tbody tr th:only-of-type {\n",
       "        vertical-align: middle;\n",
       "    }\n",
       "\n",
       "    .dataframe tbody tr th {\n",
       "        vertical-align: top;\n",
       "    }\n",
       "\n",
       "    .dataframe thead th {\n",
       "        text-align: right;\n",
       "    }\n",
       "</style>\n",
       "<table border=\"1\" class=\"dataframe\">\n",
       "  <thead>\n",
       "    <tr style=\"text-align: right;\">\n",
       "      <th></th>\n",
       "      <th>count</th>\n",
       "      <th>mean</th>\n",
       "      <th>std</th>\n",
       "      <th>min</th>\n",
       "      <th>25%</th>\n",
       "      <th>50%</th>\n",
       "      <th>75%</th>\n",
       "      <th>max</th>\n",
       "    </tr>\n",
       "  </thead>\n",
       "  <tbody>\n",
       "    <tr>\n",
       "      <th>driver_age</th>\n",
       "      <td>49171.0</td>\n",
       "      <td>34.181347</td>\n",
       "      <td>12.774164</td>\n",
       "      <td>15.0</td>\n",
       "      <td>23.0</td>\n",
       "      <td>31.0</td>\n",
       "      <td>43.0</td>\n",
       "      <td>88.0</td>\n",
       "    </tr>\n",
       "  </tbody>\n",
       "</table>\n",
       "</div>"
      ],
      "text/plain": [
       "              count       mean        std   min   25%   50%   75%   max\n",
       "driver_age  49171.0  34.181347  12.774164  15.0  23.0  31.0  43.0  88.0"
      ]
     },
     "execution_count": 29,
     "metadata": {},
     "output_type": "execute_result"
    }
   ],
   "source": [
    "## show more statistics about numerical data (driver_age) after the cleaning:\n",
    "df.describe().transpose()"
   ]
  },
  {
   "cell_type": "code",
   "execution_count": 30,
   "id": "727489e7",
   "metadata": {},
   "outputs": [],
   "source": [
    "## creat mask for drugs_related_stop:\n",
    "hooked = df.drugs_related_stop == True  \n",
    "Nhooked = df.drugs_related_stop == False"
   ]
  },
  {
   "cell_type": "markdown",
   "id": "0a4ab6e1",
   "metadata": {},
   "source": [
    "# Explore the relation between category of violation and drugs:\n"
   ]
  },
  {
   "cell_type": "code",
   "execution_count": 31,
   "id": "e25d6d2c",
   "metadata": {},
   "outputs": [
    {
     "data": {
      "text/plain": [
       "Speeding                          145\n",
       "other                             127\n",
       "Equipment/Inspection Violation     90\n",
       "Registration Violation             30\n",
       "Special Detail/Directed Patrol      3\n",
       "Name: violation_raw, dtype: int64"
      ]
     },
     "execution_count": 31,
     "metadata": {},
     "output_type": "execute_result"
    }
   ],
   "source": [
    "df.violation_raw[hooked].value_counts()"
   ]
  },
  {
   "cell_type": "code",
   "execution_count": 32,
   "id": "5f9e9760",
   "metadata": {},
   "outputs": [
    {
     "data": {
      "text/plain": [
       "Speeding                          31819\n",
       "other                              9156\n",
       "Equipment/Inspection Violation     4166\n",
       "Special Detail/Directed Patrol     1865\n",
       "Registration Violation             1770\n",
       "Name: violation_raw, dtype: int64"
      ]
     },
     "execution_count": 32,
     "metadata": {},
     "output_type": "execute_result"
    }
   ],
   "source": [
    "df.violation_raw[Nhooked].value_counts()"
   ]
  },
  {
   "cell_type": "code",
   "execution_count": 33,
   "id": "9f64b50c",
   "metadata": {
    "scrolled": false
   },
   "outputs": [
    {
     "data": {
      "image/png": "[encoded data removed]",
      "text/plain": [
       "<Figure size 1080x1080 with 1 Axes>"
      ]
     },
     "metadata": {
      "needs_background": "light"
     },
     "output_type": "display_data"
    }
   ],
   "source": [
    "# Visualize the result \n",
    "plt.figure(figsize=(15,15))\n",
    "df.violation_raw[hooked].value_counts().plot(kind='bar', alpha=.5, color='green', label='druged')\n",
    "df.violation_raw[Nhooked].value_counts().plot(kind='bar', alpha=.5, color='black', label='Not druged')\n",
    "plt.legend();\n",
    "plt.title('Finding Relation Between category of violation and drugs')\n",
    "plt.ylabel('No.Of drivers')\n",
    "plt.xlabel('violation_raw');"
   ]
  },
  {
   "cell_type": "markdown",
   "id": "d689d91f",
   "metadata": {},
   "source": [
    "- There is no relation between drugged drivers and category of violation.\n"
   ]
  },
  {
   "cell_type": "markdown",
   "id": "fed82ab8",
   "metadata": {},
   "source": [
    "# Explore the relation between driver 's age and category of violation:"
   ]
  },
  {
   "cell_type": "code",
   "execution_count": 34,
   "id": "6fe4589b",
   "metadata": {},
   "outputs": [],
   "source": [
    "## create mask for driver_age:\n",
    "youth = df.driver_age <= 40   ## drivers who have 40 years old or less\n",
    "old = df.driver_age > 40          ## drivers who have more than 40 years old"
   ]
  },
  {
   "cell_type": "code",
   "execution_count": 35,
   "id": "b6b297c2",
   "metadata": {},
   "outputs": [
    {
     "data": {
      "text/plain": [
       "Speeding                          23322\n",
       "other                              5585\n",
       "Equipment/Inspection Violation     3330\n",
       "Registration Violation             1373\n",
       "Special Detail/Directed Patrol      688\n",
       "Name: violation_raw, dtype: int64"
      ]
     },
     "execution_count": 35,
     "metadata": {},
     "output_type": "execute_result"
    }
   ],
   "source": [
    "df.violation_raw[youth].value_counts()"
   ]
  },
  {
   "cell_type": "code",
   "execution_count": 36,
   "id": "e7580d74",
   "metadata": {},
   "outputs": [
    {
     "data": {
      "text/plain": [
       "Speeding                          8642\n",
       "other                             3698\n",
       "Special Detail/Directed Patrol    1180\n",
       "Equipment/Inspection Violation     926\n",
       "Registration Violation             427\n",
       "Name: violation_raw, dtype: int64"
      ]
     },
     "execution_count": 36,
     "metadata": {},
     "output_type": "execute_result"
    }
   ],
   "source": [
    "df.violation_raw[old].value_counts()"
   ]
  },
  {
   "cell_type": "code",
   "execution_count": 37,
   "id": "5b6a4aa2",
   "metadata": {},
   "outputs": [
    {
     "data": {
      "image/png": "[encoded data removed]",
      "text/plain": [
       "<Figure size 720x720 with 1 Axes>"
      ]
     },
     "metadata": {
      "needs_background": "light"
     },
     "output_type": "display_data"
    }
   ],
   "source": [
    "# Visualize the result \n",
    "plt.figure(figsize=(10,10))\n",
    "df.violation_raw[youth].value_counts().plot(kind='bar', alpha=.5, color='green', label='youth')\n",
    "df.violation_raw[old].value_counts().plot(kind='bar', alpha=.5, color='black', label='old')\n",
    "plt.legend();\n",
    "plt.title('Finding Relation Between drivers age and category of violation')\n",
    "plt.ylabel('No.Of drivers')\n",
    "plt.xlabel('violation_raw');"
   ]
  },
  {
   "cell_type": "markdown",
   "id": "bd273e42",
   "metadata": {},
   "source": [
    "## There is a clear relation between the driver's age and the category of violation :\n",
    "\n",
    "- drivers who have 40 years old or less make more traffic violation.\n",
    "- speeding violation is the most one that spread out among drivers especially youth. "
   ]
  },
  {
   "cell_type": "markdown",
   "id": "616a3b37",
   "metadata": {},
   "source": [
    "# Explore the relation between driver_gender and the category of violation: "
   ]
  },
  {
   "cell_type": "code",
   "execution_count": 38,
   "id": "de5e9a27",
   "metadata": {},
   "outputs": [],
   "source": [
    "## create mask for driver_gender:\n",
    "male = df['driver_gender'] == 'M'\n",
    "female = df['driver_gender'] == 'F'"
   ]
  },
  {
   "cell_type": "code",
   "execution_count": 39,
   "id": "c83223a0",
   "metadata": {},
   "outputs": [
    {
     "data": {
      "text/plain": [
       "M    36226\n",
       "F    12945\n",
       "Name: driver_gender, dtype: int64"
      ]
     },
     "execution_count": 39,
     "metadata": {},
     "output_type": "execute_result"
    }
   ],
   "source": [
    "df['driver_gender'].value_counts()"
   ]
  },
  {
   "cell_type": "code",
   "execution_count": 40,
   "id": "37ac119f",
   "metadata": {},
   "outputs": [
    {
     "data": {
      "image/png": "[encoded data removed]",
      "text/plain": [
       "<Figure size 432x288 with 1 Axes>"
      ]
     },
     "metadata": {},
     "output_type": "display_data"
    }
   ],
   "source": [
    "vis('driver_gender')"
   ]
  },
  {
   "cell_type": "code",
   "execution_count": 41,
   "id": "de2c0a6d",
   "metadata": {},
   "outputs": [
    {
     "data": {
      "text/plain": [
       "Speeding                          22099\n",
       "other                              7605\n",
       "Equipment/Inspection Violation     3405\n",
       "Special Detail/Directed Patrol     1815\n",
       "Registration Violation             1302\n",
       "Name: violation_raw, dtype: int64"
      ]
     },
     "execution_count": 41,
     "metadata": {},
     "output_type": "execute_result"
    }
   ],
   "source": [
    "df.violation_raw[male].value_counts()"
   ]
  },
  {
   "cell_type": "code",
   "execution_count": 42,
   "id": "3b15bb9b",
   "metadata": {},
   "outputs": [
    {
     "data": {
      "text/plain": [
       "Speeding                          9865\n",
       "other                             1678\n",
       "Equipment/Inspection Violation     851\n",
       "Registration Violation             498\n",
       "Special Detail/Directed Patrol      53\n",
       "Name: violation_raw, dtype: int64"
      ]
     },
     "execution_count": 42,
     "metadata": {},
     "output_type": "execute_result"
    }
   ],
   "source": [
    "df.violation_raw[female].value_counts()"
   ]
  },
  {
   "cell_type": "code",
   "execution_count": 43,
   "id": "5b23819d",
   "metadata": {},
   "outputs": [
    {
     "data": {
      "image/png": "[encoded data removed]",
      "text/plain": [
       "<Figure size 720x720 with 1 Axes>"
      ]
     },
     "metadata": {
      "needs_background": "light"
     },
     "output_type": "display_data"
    }
   ],
   "source": [
    "# Visualize the result \n",
    "plt.figure(figsize=(10,10))\n",
    "df.violation_raw[male].value_counts().plot(kind='bar', alpha=.5, color='green', label='male')\n",
    "df.violation_raw[female].value_counts().plot(kind='bar', alpha=.5, color='black', label='female')\n",
    "plt.legend();\n",
    "plt.title('Finding Relation Between driver_gender and the category of violation')\n",
    "plt.ylabel('No.Of drivers')\n",
    "plt.xlabel('violation_raw');"
   ]
  },
  {
   "cell_type": "markdown",
   "id": "aae9e70c",
   "metadata": {},
   "source": [
    "- Males are more than females.\n",
    "- Both of them made speeding violation the most. "
   ]
  },
  {
   "cell_type": "markdown",
   "id": "6d1346fa",
   "metadata": {},
   "source": [
    "# Explore the relation between stop_outcome and the category of violation:"
   ]
  },
  {
   "cell_type": "code",
   "execution_count": 44,
   "id": "eaed7aa2",
   "metadata": {},
   "outputs": [
    {
     "data": {
      "text/plain": [
       "Citation            45625\n",
       "Arrest Driver        1642\n",
       "Warning              1094\n",
       "N/D                   348\n",
       "No Action             262\n",
       "Arrest Passenger      200\n",
       "Name: stop_outcome, dtype: int64"
      ]
     },
     "execution_count": 44,
     "metadata": {},
     "output_type": "execute_result"
    }
   ],
   "source": [
    "df['stop_outcome'].value_counts()"
   ]
  },
  {
   "cell_type": "code",
   "execution_count": 45,
   "id": "e386cf6c",
   "metadata": {},
   "outputs": [],
   "source": [
    "## creat mask for stop_outcome:\n",
    "Citation = df['stop_outcome'] == 'Citation'\n",
    "Arrest_Driver = df['stop_outcome'] == 'Arrest Driver'\n",
    "Warning = df['stop_outcome'] == 'Warning'"
   ]
  },
  {
   "cell_type": "code",
   "execution_count": 46,
   "id": "d4e228b8",
   "metadata": {},
   "outputs": [
    {
     "data": {
      "text/plain": [
       "Speeding                          30971\n",
       "other                              8033\n",
       "Equipment/Inspection Violation     3273\n",
       "Special Detail/Directed Patrol     1846\n",
       "Registration Violation             1502\n",
       "Name: violation_raw, dtype: int64"
      ]
     },
     "execution_count": 46,
     "metadata": {},
     "output_type": "execute_result"
    }
   ],
   "source": [
    "df.violation_raw[Citation].value_counts()"
   ]
  },
  {
   "cell_type": "code",
   "execution_count": 47,
   "id": "965c2b4c",
   "metadata": {},
   "outputs": [
    {
     "data": {
      "text/plain": [
       "other                             693\n",
       "Speeding                          444\n",
       "Equipment/Inspection Violation    279\n",
       "Registration Violation            217\n",
       "Special Detail/Directed Patrol      9\n",
       "Name: violation_raw, dtype: int64"
      ]
     },
     "execution_count": 47,
     "metadata": {},
     "output_type": "execute_result"
    }
   ],
   "source": [
    "df.violation_raw[Arrest_Driver].value_counts()"
   ]
  },
  {
   "cell_type": "code",
   "execution_count": 48,
   "id": "4ccfa27e",
   "metadata": {},
   "outputs": [
    {
     "data": {
      "text/plain": [
       "Speeding                          446\n",
       "Equipment/Inspection Violation    337\n",
       "other                             272\n",
       "Registration Violation             34\n",
       "Special Detail/Directed Patrol      5\n",
       "Name: violation_raw, dtype: int64"
      ]
     },
     "execution_count": 48,
     "metadata": {},
     "output_type": "execute_result"
    }
   ],
   "source": [
    "df.violation_raw[Warning].value_counts()"
   ]
  },
  {
   "cell_type": "code",
   "execution_count": 49,
   "id": "a07c5e04",
   "metadata": {
    "scrolled": false
   },
   "outputs": [
    {
     "data": {
      "image/png": "[encoded data removed]",
      "text/plain": [
       "<Figure size 720x720 with 1 Axes>"
      ]
     },
     "metadata": {
      "needs_background": "light"
     },
     "output_type": "display_data"
    }
   ],
   "source": [
    "# Visualize the result \n",
    "plt.figure(figsize=(10,10))\n",
    "df.violation_raw[Citation].value_counts().plot(kind='bar', alpha=.5, color='yellow', label='Citation')\n",
    "df.violation_raw[Arrest_Driver].value_counts().plot(kind='bar', alpha=.5, color='black', label='Aresst driver')\n",
    "df.violation_raw[Warning].value_counts().plot(kind='bar', alpha=.5, color='red', label='Warning')\n",
    "\n",
    "plt.legend();\n",
    "plt.title('Finding Relation Between stop outcome and the category of violation')\n",
    "plt.ylabel('No.Of drivers')\n",
    "plt.xlabel('violation_raw');"
   ]
  },
  {
   "cell_type": "markdown",
   "id": "699cb1e0",
   "metadata": {},
   "source": [
    "- Citation is the most stop outcome for traffic violations.\n",
    "- speeding violation is very common."
   ]
  },
  {
   "cell_type": "markdown",
   "id": "c8092263",
   "metadata": {},
   "source": [
    "# Explore the relation between driver_race and if he is arrested:"
   ]
  },
  {
   "cell_type": "code",
   "execution_count": 50,
   "id": "8a9dd570",
   "metadata": {},
   "outputs": [
    {
     "data": {
      "text/plain": [
       "False    47329\n",
       "True      1842\n",
       "Name: is_arrested, dtype: int64"
      ]
     },
     "execution_count": 50,
     "metadata": {},
     "output_type": "execute_result"
    }
   ],
   "source": [
    "df['is_arrested'].value_counts()"
   ]
  },
  {
   "cell_type": "code",
   "execution_count": 51,
   "id": "4449e701",
   "metadata": {},
   "outputs": [],
   "source": [
    "## creat mask for arrested drivers:\n",
    "arrested = df['is_arrested'] == True"
   ]
  },
  {
   "cell_type": "code",
   "execution_count": 52,
   "id": "77ebd93b",
   "metadata": {},
   "outputs": [
    {
     "data": {
      "text/plain": [
       "White       37069\n",
       "Black        6532\n",
       "Hispanic     4056\n",
       "Asian        1367\n",
       "Other         147\n",
       "Name: driver_race, dtype: int64"
      ]
     },
     "execution_count": 52,
     "metadata": {},
     "output_type": "execute_result"
    }
   ],
   "source": [
    "df['driver_race'].value_counts()"
   ]
  },
  {
   "cell_type": "code",
   "execution_count": 53,
   "id": "06bc0a2b",
   "metadata": {},
   "outputs": [
    {
     "data": {
      "image/png": "[encoded data removed]",
      "text/plain": [
       "<Figure size 432x288 with 1 Axes>"
      ]
     },
     "metadata": {},
     "output_type": "display_data"
    }
   ],
   "source": [
    "vis('driver_race')"
   ]
  },
  {
   "cell_type": "code",
   "execution_count": 54,
   "id": "20ea0188",
   "metadata": {},
   "outputs": [
    {
     "data": {
      "text/plain": [
       "White       1095\n",
       "Black        451\n",
       "Hispanic     264\n",
       "Asian         30\n",
       "Other          2\n",
       "Name: driver_race, dtype: int64"
      ]
     },
     "execution_count": 54,
     "metadata": {},
     "output_type": "execute_result"
    }
   ],
   "source": [
    "df.driver_race[arrested].value_counts()"
   ]
  },
  {
   "cell_type": "code",
   "execution_count": 55,
   "id": "653b864f",
   "metadata": {},
   "outputs": [
    {
     "data": {
      "image/png": "[encoded data removed]",
      "text/plain": [
       "<Figure size 720x720 with 1 Axes>"
      ]
     },
     "metadata": {
      "needs_background": "light"
     },
     "output_type": "display_data"
    }
   ],
   "source": [
    "# Visualize the result \n",
    "plt.figure(figsize=(10,10))\n",
    "df.driver_race[arrested].value_counts().plot(kind='bar', color='yellow')                                        \n",
    "plt.title('Finding Relation Between driver_race and if he is arrested')\n",
    "plt.ylabel('No.Of drivers')\n",
    "plt.xlabel('driver_race');"
   ]
  },
  {
   "cell_type": "markdown",
   "id": "c97e1def",
   "metadata": {},
   "source": [
    "- There is no racism from the police against any race of drivers.\n",
    "- white drivers is the most drivers arrested then black, because whites is the most in data.\n"
   ]
  },
  {
   "cell_type": "markdown",
   "id": "938ae342",
   "metadata": {},
   "source": [
    "# Conclusions:\n",
    "## From stating dependent and independent variables I found that:\n",
    "- There is no relation between drugged drivers and category of violation., the number of arrested drivers because of drugs are very small.\n",
    "- Drivers have 40 years old or less make more traffic violations.\n",
    "- Speeding violations is the most common for all ages. \n",
    "- Males is more than females in this data, so males made more violations.\n",
    "- Citations is the most stop outcome for traffic violations especially speeding.\n",
    "- There is no relation between driver race and if he is arrested or not, there are many white drivers in data, so there are many arrested white drivers then black drivers."
   ]
  },
  {
   "cell_type": "code",
   "execution_count": null,
   "id": "2722c736",
   "metadata": {},
   "outputs": [],
   "source": []
  }
 ],
 "metadata": {
  "kernelspec": {
   "display_name": "Python 3",
   "language": "python",
   "name": "python3"
  },
  "language_info": {
   "codemirror_mode": {
    "name": "ipython",
    "version": 3
   },
   "file_extension": ".py",
   "mimetype": "text/x-python",
   "name": "python",
   "nbconvert_exporter": "python",
   "pygments_lexer": "ipython3",
   "version": "3.8.8"
  }
 },
 "nbformat": 4,
 "nbformat_minor": 5
}
